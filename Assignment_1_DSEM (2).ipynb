{
  "nbformat": 4,
  "nbformat_minor": 0,
  "metadata": {
    "colab": {
      "provenance": []
    },
    "kernelspec": {
      "name": "python3",
      "display_name": "Python 3"
    },
    "language_info": {
      "name": "python"
    }
  },
  "cells": [
    {
      "cell_type": "markdown",
      "source": [
        "# Assignment 1 :"
      ],
      "metadata": {
        "id": "T9j-NWqPeBm4"
      }
    },
    {
      "cell_type": "markdown",
      "source": [
        "## **MIT License**\n",
        "Copyright (c) 2023 Aditya Pravin Pande\n",
        "\n",
        "Permission is hereby granted, free of charge, to any person obtaining a copy of this software and associated documentation files (the \"Software\"), to deal in the Software without restriction, including without limitation the rights to use, copy, modify, merge, publish, distribute, sublicense, and/or sell copies of the Software, and to permit persons to whom the Software is furnished to do so, subject to the following conditions:\n",
        "\n",
        "The above copyright notice and this permission notice shall be included in all copies or substantial portions of the Software.\n",
        "\n",
        "THE SOFTWARE IS PROVIDED \"AS IS\", WITHOUT WARRANTY OF ANY KIND, EXPRESS OR IMPLIED, INCLUDING BUT NOT LIMITED TO THE WARRANTIES OF MERCHANTABILITY, FITNESS FOR A PARTICULAR PURPOSE AND NONINFRINGEMENT. IN NO EVENT SHALL THE AUTHORS OR COPYRIGHT HOLDERS BE LIABLE FOR ANY CLAIM, DAMAGES OR OTHER LIABILITY, WHETHER IN AN ACTION OF CONTRACT, TORT OR OTHERWISE, ARISING FROM, OUT OF OR IN CONNECTION WITH THE SOFTWARE OR THE USE OR OTHER DEALINGS IN THE SOFTWARE."
      ],
      "metadata": {
        "id": "MJtfEmfzRQ8l"
      }
    },
    {
      "cell_type": "markdown",
      "source": [
        "Abstract:\n",
        "\n",
        "---\n",
        "This abstract presents a data model for detecting the prices of laptops. The model utilizes machine learning algorithms to analyze a large dataset of laptop specifications and prices. The objective is to build a model that can accurately predict the prices of laptops based on their specifications, such as processor type, graphics card, RAM, and storage capacity. The model consists of a diverse set of laptops and the results are expected  to showe a high accuracy in price prediction. This model can be useful for both consumers and businesses in the laptop industry, as it provides a fast and efficient way to determine the expected price of a laptop based on its specifications.\n",
        "\n",
        "In this assignment we will be answering the following questions:\n",
        "\n",
        "What are the data types? (Only numeric and categorical)\n",
        "\n",
        "Are there missing values?\n",
        "\n",
        "What are the likely distributions of the numeric variables?\n",
        "\n",
        "Which independent variables are useful to predict a target (dependent variable)? (Use at least three methods)\n",
        "\n",
        "Which independent variables have missing data? How much?\n",
        "\n",
        "Do the training and test sets have the same data?\n",
        "\n",
        "In the predictor variables independent of all the other predictor variables?\n",
        "\n",
        "Which predictor variables are the most important?\n",
        "\n",
        "Do the ranges of the predictor variables make sense?\n",
        "\n",
        "What are the distributions of the predictor variables?\n",
        "\n",
        "Remove outliers and keep outliers (does if have an effect of the final predictive model)?\n",
        "\n",
        "Remove 1%, 5%, and 10% of your data randomly and impute the values back using at least 3 imputation methods. How well did the methods recover the missing values? That is remove some data, check the % error on residuals for numeric data and check for bias and variance of the error.\n",
        "\n"
      ],
      "metadata": {
        "id": "wzEmC2a8eIR6"
      }
    },
    {
      "cell_type": "markdown",
      "source": [
        "# Importing the basic libraries required"
      ],
      "metadata": {
        "id": "0WaIugRFefLK"
      }
    },
    {
      "cell_type": "code",
      "execution_count": 129,
      "metadata": {
        "colab": {
          "base_uri": "https://localhost:8080/"
        },
        "id": "81uqp1wd_gZi",
        "outputId": "b95ced9f-4408-44c8-d2ee-2a7a83f6acf9"
      },
      "outputs": [
        {
          "output_type": "stream",
          "name": "stdout",
          "text": [
            "Looking in indexes: https://pypi.org/simple, https://us-python.pkg.dev/colab-wheels/public/simple/\n",
            "Requirement already satisfied: eli5 in /usr/local/lib/python3.8/dist-packages (0.13.0)\n",
            "Requirement already satisfied: numpy>=1.9.0 in /usr/local/lib/python3.8/dist-packages (from eli5) (1.21.6)\n",
            "Requirement already satisfied: scipy in /usr/local/lib/python3.8/dist-packages (from eli5) (1.7.3)\n",
            "Requirement already satisfied: jinja2>=3.0.0 in /usr/local/lib/python3.8/dist-packages (from eli5) (3.1.2)\n",
            "Requirement already satisfied: six in /usr/local/lib/python3.8/dist-packages (from eli5) (1.15.0)\n",
            "Requirement already satisfied: graphviz in /usr/local/lib/python3.8/dist-packages (from eli5) (0.10.1)\n",
            "Requirement already satisfied: scikit-learn>=0.20 in /usr/local/lib/python3.8/dist-packages (from eli5) (1.0.2)\n",
            "Requirement already satisfied: attrs>17.1.0 in /usr/local/lib/python3.8/dist-packages (from eli5) (22.2.0)\n",
            "Requirement already satisfied: tabulate>=0.7.7 in /usr/local/lib/python3.8/dist-packages (from eli5) (0.8.10)\n",
            "Requirement already satisfied: MarkupSafe>=2.0 in /usr/local/lib/python3.8/dist-packages (from jinja2>=3.0.0->eli5) (2.0.1)\n",
            "Requirement already satisfied: joblib>=0.11 in /usr/local/lib/python3.8/dist-packages (from scikit-learn>=0.20->eli5) (1.2.0)\n",
            "Requirement already satisfied: threadpoolctl>=2.0.0 in /usr/local/lib/python3.8/dist-packages (from scikit-learn>=0.20->eli5) (3.1.0)\n"
          ]
        }
      ],
      "source": [
        "pip install eli5"
      ]
    },
    {
      "cell_type": "code",
      "source": [
        "import numpy as np\n",
        "import pandas as pd\n",
        "import seaborn as sns\n",
        "import matplotlib.pylab as plt\n",
        "from matplotlib import pyplot\n"
      ],
      "metadata": {
        "id": "Ct4jXvbNAIol"
      },
      "execution_count": 130,
      "outputs": []
    },
    {
      "cell_type": "markdown",
      "source": [
        "# Reading the Dataset"
      ],
      "metadata": {
        "id": "5uO3_ODHqHo_"
      }
    },
    {
      "cell_type": "code",
      "source": [
        "data = pd.read_csv(\"https://raw.githubusercontent.com/Aditya260698/Data-Science-Engineering-Methods-and-Tools/main/laptopsds.csv\", encoding=\"Latin\")\n",
        "#data.drop(['Unnamed: 0'], axis = 1, inplace=True)"
      ],
      "metadata": {
        "id": "ES4FTpiLAOMu"
      },
      "execution_count": 131,
      "outputs": []
    },
    {
      "cell_type": "code",
      "source": [
        "data.to_csv(\"/content/laptopsds.csv\", encoding=\"utf-8\")"
      ],
      "metadata": {
        "id": "fLPGnLPlAXo7"
      },
      "execution_count": 132,
      "outputs": []
    },
    {
      "cell_type": "code",
      "source": [
        "data\n"
      ],
      "metadata": {
        "colab": {
          "base_uri": "https://localhost:8080/",
          "height": 901
        },
        "id": "OgmT8MolAazM",
        "outputId": "b574c8c6-df87-4b97-e71e-2fa73582d63d"
      },
      "execution_count": 133,
      "outputs": [
        {
          "output_type": "execute_result",
          "data": {
            "text/plain": [
              "     Manufacturer                           Model Name            Category  \\\n",
              "0           Apple                          MacBook Pro           Ultrabook   \n",
              "1           Apple                          Macbook Air           Ultrabook   \n",
              "2              HP                               250 G6            Notebook   \n",
              "3           Apple                          MacBook Pro           Ultrabook   \n",
              "4           Apple                          MacBook Pro           Ultrabook   \n",
              "...           ...                                  ...                 ...   \n",
              "1298       Lenovo                       Yoga 500-14ISK  2 in 1 Convertible   \n",
              "1299       Lenovo                       Yoga 900-13ISK  2 in 1 Convertible   \n",
              "1300       Lenovo                   IdeaPad 100S-14IBR            Notebook   \n",
              "1301           HP  15-AC110nv (i7-6500U/6GB/1TB/Radeon            Notebook   \n",
              "1302         Asus  X553SA-XX031T (N3050/4GB/500GB/W10)            Notebook   \n",
              "\n",
              "     Screen Size                                      Screen   RAM  \\\n",
              "0          13.3\"          IPS Panel Retina Display 2560x1600   8GB   \n",
              "1          13.3\"                                    1440x900   8GB   \n",
              "2          15.6\"                           Full HD 1920x1080   8GB   \n",
              "3          15.4\"          IPS Panel Retina Display 2880x1800  16GB   \n",
              "4          13.3\"          IPS Panel Retina Display 2560x1600   8GB   \n",
              "...          ...                                         ...   ...   \n",
              "1298       14.0\"   IPS Panel Full HD / Touchscreen 1920x1080   4GB   \n",
              "1299       13.3\"  IPS Panel Quad HD+ / Touchscreen 3200x1800  16GB   \n",
              "1300       14.0\"                                    1366x768   2GB   \n",
              "1301       15.6\"                                    1366x768   6GB   \n",
              "1302       15.6\"                                    1366x768   4GB   \n",
              "\n",
              "                  Storage                           GPU Operating System  \\\n",
              "0               128GB SSD  Intel Iris Plus Graphics 640            macOS   \n",
              "1     128GB Flash Storage        Intel HD Graphics 6000            macOS   \n",
              "2               256GB SSD         Intel HD Graphics 620            No OS   \n",
              "3               512GB SSD            AMD Radeon Pro 455            macOS   \n",
              "4               256GB SSD  Intel Iris Plus Graphics 650            macOS   \n",
              "...                   ...                           ...              ...   \n",
              "1298            128GB SSD         Intel HD Graphics 520          Windows   \n",
              "1299            512GB SSD         Intel HD Graphics 520          Windows   \n",
              "1300   64GB Flash Storage             Intel HD Graphics          Windows   \n",
              "1301              1TB HDD            AMD Radeon R5 M330          Windows   \n",
              "1302            500GB HDD             Intel HD Graphics          Windows   \n",
              "\n",
              "     Operating System Version  Weight  Price (Euros)  \n",
              "0                         NaN  1.37kg        1339.69  \n",
              "1                         NaN  1.34kg         898.94  \n",
              "2                         NaN  1.86kg         575.00  \n",
              "3                         NaN  1.83kg        2537.45  \n",
              "4                         NaN  1.37kg        1803.60  \n",
              "...                       ...     ...            ...  \n",
              "1298                       10   1.8kg         638.00  \n",
              "1299                       10   1.3kg        1499.00  \n",
              "1300                       10   1.5kg         229.00  \n",
              "1301                       10  2.19kg         764.00  \n",
              "1302                       10   2.2kg         369.00  \n",
              "\n",
              "[1303 rows x 12 columns]"
            ],
            "text/html": [
              "\n",
              "  <div id=\"df-969b59a1-8a00-4121-9ea3-e8c7ed1fe887\">\n",
              "    <div class=\"colab-df-container\">\n",
              "      <div>\n",
              "<style scoped>\n",
              "    .dataframe tbody tr th:only-of-type {\n",
              "        vertical-align: middle;\n",
              "    }\n",
              "\n",
              "    .dataframe tbody tr th {\n",
              "        vertical-align: top;\n",
              "    }\n",
              "\n",
              "    .dataframe thead th {\n",
              "        text-align: right;\n",
              "    }\n",
              "</style>\n",
              "<table border=\"1\" class=\"dataframe\">\n",
              "  <thead>\n",
              "    <tr style=\"text-align: right;\">\n",
              "      <th></th>\n",
              "      <th>Manufacturer</th>\n",
              "      <th>Model Name</th>\n",
              "      <th>Category</th>\n",
              "      <th>Screen Size</th>\n",
              "      <th>Screen</th>\n",
              "      <th>RAM</th>\n",
              "      <th>Storage</th>\n",
              "      <th>GPU</th>\n",
              "      <th>Operating System</th>\n",
              "      <th>Operating System Version</th>\n",
              "      <th>Weight</th>\n",
              "      <th>Price (Euros)</th>\n",
              "    </tr>\n",
              "  </thead>\n",
              "  <tbody>\n",
              "    <tr>\n",
              "      <th>0</th>\n",
              "      <td>Apple</td>\n",
              "      <td>MacBook Pro</td>\n",
              "      <td>Ultrabook</td>\n",
              "      <td>13.3\"</td>\n",
              "      <td>IPS Panel Retina Display 2560x1600</td>\n",
              "      <td>8GB</td>\n",
              "      <td>128GB SSD</td>\n",
              "      <td>Intel Iris Plus Graphics 640</td>\n",
              "      <td>macOS</td>\n",
              "      <td>NaN</td>\n",
              "      <td>1.37kg</td>\n",
              "      <td>1339.69</td>\n",
              "    </tr>\n",
              "    <tr>\n",
              "      <th>1</th>\n",
              "      <td>Apple</td>\n",
              "      <td>Macbook Air</td>\n",
              "      <td>Ultrabook</td>\n",
              "      <td>13.3\"</td>\n",
              "      <td>1440x900</td>\n",
              "      <td>8GB</td>\n",
              "      <td>128GB Flash Storage</td>\n",
              "      <td>Intel HD Graphics 6000</td>\n",
              "      <td>macOS</td>\n",
              "      <td>NaN</td>\n",
              "      <td>1.34kg</td>\n",
              "      <td>898.94</td>\n",
              "    </tr>\n",
              "    <tr>\n",
              "      <th>2</th>\n",
              "      <td>HP</td>\n",
              "      <td>250 G6</td>\n",
              "      <td>Notebook</td>\n",
              "      <td>15.6\"</td>\n",
              "      <td>Full HD 1920x1080</td>\n",
              "      <td>8GB</td>\n",
              "      <td>256GB SSD</td>\n",
              "      <td>Intel HD Graphics 620</td>\n",
              "      <td>No OS</td>\n",
              "      <td>NaN</td>\n",
              "      <td>1.86kg</td>\n",
              "      <td>575.00</td>\n",
              "    </tr>\n",
              "    <tr>\n",
              "      <th>3</th>\n",
              "      <td>Apple</td>\n",
              "      <td>MacBook Pro</td>\n",
              "      <td>Ultrabook</td>\n",
              "      <td>15.4\"</td>\n",
              "      <td>IPS Panel Retina Display 2880x1800</td>\n",
              "      <td>16GB</td>\n",
              "      <td>512GB SSD</td>\n",
              "      <td>AMD Radeon Pro 455</td>\n",
              "      <td>macOS</td>\n",
              "      <td>NaN</td>\n",
              "      <td>1.83kg</td>\n",
              "      <td>2537.45</td>\n",
              "    </tr>\n",
              "    <tr>\n",
              "      <th>4</th>\n",
              "      <td>Apple</td>\n",
              "      <td>MacBook Pro</td>\n",
              "      <td>Ultrabook</td>\n",
              "      <td>13.3\"</td>\n",
              "      <td>IPS Panel Retina Display 2560x1600</td>\n",
              "      <td>8GB</td>\n",
              "      <td>256GB SSD</td>\n",
              "      <td>Intel Iris Plus Graphics 650</td>\n",
              "      <td>macOS</td>\n",
              "      <td>NaN</td>\n",
              "      <td>1.37kg</td>\n",
              "      <td>1803.60</td>\n",
              "    </tr>\n",
              "    <tr>\n",
              "      <th>...</th>\n",
              "      <td>...</td>\n",
              "      <td>...</td>\n",
              "      <td>...</td>\n",
              "      <td>...</td>\n",
              "      <td>...</td>\n",
              "      <td>...</td>\n",
              "      <td>...</td>\n",
              "      <td>...</td>\n",
              "      <td>...</td>\n",
              "      <td>...</td>\n",
              "      <td>...</td>\n",
              "      <td>...</td>\n",
              "    </tr>\n",
              "    <tr>\n",
              "      <th>1298</th>\n",
              "      <td>Lenovo</td>\n",
              "      <td>Yoga 500-14ISK</td>\n",
              "      <td>2 in 1 Convertible</td>\n",
              "      <td>14.0\"</td>\n",
              "      <td>IPS Panel Full HD / Touchscreen 1920x1080</td>\n",
              "      <td>4GB</td>\n",
              "      <td>128GB SSD</td>\n",
              "      <td>Intel HD Graphics 520</td>\n",
              "      <td>Windows</td>\n",
              "      <td>10</td>\n",
              "      <td>1.8kg</td>\n",
              "      <td>638.00</td>\n",
              "    </tr>\n",
              "    <tr>\n",
              "      <th>1299</th>\n",
              "      <td>Lenovo</td>\n",
              "      <td>Yoga 900-13ISK</td>\n",
              "      <td>2 in 1 Convertible</td>\n",
              "      <td>13.3\"</td>\n",
              "      <td>IPS Panel Quad HD+ / Touchscreen 3200x1800</td>\n",
              "      <td>16GB</td>\n",
              "      <td>512GB SSD</td>\n",
              "      <td>Intel HD Graphics 520</td>\n",
              "      <td>Windows</td>\n",
              "      <td>10</td>\n",
              "      <td>1.3kg</td>\n",
              "      <td>1499.00</td>\n",
              "    </tr>\n",
              "    <tr>\n",
              "      <th>1300</th>\n",
              "      <td>Lenovo</td>\n",
              "      <td>IdeaPad 100S-14IBR</td>\n",
              "      <td>Notebook</td>\n",
              "      <td>14.0\"</td>\n",
              "      <td>1366x768</td>\n",
              "      <td>2GB</td>\n",
              "      <td>64GB Flash Storage</td>\n",
              "      <td>Intel HD Graphics</td>\n",
              "      <td>Windows</td>\n",
              "      <td>10</td>\n",
              "      <td>1.5kg</td>\n",
              "      <td>229.00</td>\n",
              "    </tr>\n",
              "    <tr>\n",
              "      <th>1301</th>\n",
              "      <td>HP</td>\n",
              "      <td>15-AC110nv (i7-6500U/6GB/1TB/Radeon</td>\n",
              "      <td>Notebook</td>\n",
              "      <td>15.6\"</td>\n",
              "      <td>1366x768</td>\n",
              "      <td>6GB</td>\n",
              "      <td>1TB HDD</td>\n",
              "      <td>AMD Radeon R5 M330</td>\n",
              "      <td>Windows</td>\n",
              "      <td>10</td>\n",
              "      <td>2.19kg</td>\n",
              "      <td>764.00</td>\n",
              "    </tr>\n",
              "    <tr>\n",
              "      <th>1302</th>\n",
              "      <td>Asus</td>\n",
              "      <td>X553SA-XX031T (N3050/4GB/500GB/W10)</td>\n",
              "      <td>Notebook</td>\n",
              "      <td>15.6\"</td>\n",
              "      <td>1366x768</td>\n",
              "      <td>4GB</td>\n",
              "      <td>500GB HDD</td>\n",
              "      <td>Intel HD Graphics</td>\n",
              "      <td>Windows</td>\n",
              "      <td>10</td>\n",
              "      <td>2.2kg</td>\n",
              "      <td>369.00</td>\n",
              "    </tr>\n",
              "  </tbody>\n",
              "</table>\n",
              "<p>1303 rows × 12 columns</p>\n",
              "</div>\n",
              "      <button class=\"colab-df-convert\" onclick=\"convertToInteractive('df-969b59a1-8a00-4121-9ea3-e8c7ed1fe887')\"\n",
              "              title=\"Convert this dataframe to an interactive table.\"\n",
              "              style=\"display:none;\">\n",
              "        \n",
              "  <svg xmlns=\"http://www.w3.org/2000/svg\" height=\"24px\"viewBox=\"0 0 24 24\"\n",
              "       width=\"24px\">\n",
              "    <path d=\"M0 0h24v24H0V0z\" fill=\"none\"/>\n",
              "    <path d=\"M18.56 5.44l.94 2.06.94-2.06 2.06-.94-2.06-.94-.94-2.06-.94 2.06-2.06.94zm-11 1L8.5 8.5l.94-2.06 2.06-.94-2.06-.94L8.5 2.5l-.94 2.06-2.06.94zm10 10l.94 2.06.94-2.06 2.06-.94-2.06-.94-.94-2.06-.94 2.06-2.06.94z\"/><path d=\"M17.41 7.96l-1.37-1.37c-.4-.4-.92-.59-1.43-.59-.52 0-1.04.2-1.43.59L10.3 9.45l-7.72 7.72c-.78.78-.78 2.05 0 2.83L4 21.41c.39.39.9.59 1.41.59.51 0 1.02-.2 1.41-.59l7.78-7.78 2.81-2.81c.8-.78.8-2.07 0-2.86zM5.41 20L4 18.59l7.72-7.72 1.47 1.35L5.41 20z\"/>\n",
              "  </svg>\n",
              "      </button>\n",
              "      \n",
              "  <style>\n",
              "    .colab-df-container {\n",
              "      display:flex;\n",
              "      flex-wrap:wrap;\n",
              "      gap: 12px;\n",
              "    }\n",
              "\n",
              "    .colab-df-convert {\n",
              "      background-color: #E8F0FE;\n",
              "      border: none;\n",
              "      border-radius: 50%;\n",
              "      cursor: pointer;\n",
              "      display: none;\n",
              "      fill: #1967D2;\n",
              "      height: 32px;\n",
              "      padding: 0 0 0 0;\n",
              "      width: 32px;\n",
              "    }\n",
              "\n",
              "    .colab-df-convert:hover {\n",
              "      background-color: #E2EBFA;\n",
              "      box-shadow: 0px 1px 2px rgba(60, 64, 67, 0.3), 0px 1px 3px 1px rgba(60, 64, 67, 0.15);\n",
              "      fill: #174EA6;\n",
              "    }\n",
              "\n",
              "    [theme=dark] .colab-df-convert {\n",
              "      background-color: #3B4455;\n",
              "      fill: #D2E3FC;\n",
              "    }\n",
              "\n",
              "    [theme=dark] .colab-df-convert:hover {\n",
              "      background-color: #434B5C;\n",
              "      box-shadow: 0px 1px 3px 1px rgba(0, 0, 0, 0.15);\n",
              "      filter: drop-shadow(0px 1px 2px rgba(0, 0, 0, 0.3));\n",
              "      fill: #FFFFFF;\n",
              "    }\n",
              "  </style>\n",
              "\n",
              "      <script>\n",
              "        const buttonEl =\n",
              "          document.querySelector('#df-969b59a1-8a00-4121-9ea3-e8c7ed1fe887 button.colab-df-convert');\n",
              "        buttonEl.style.display =\n",
              "          google.colab.kernel.accessAllowed ? 'block' : 'none';\n",
              "\n",
              "        async function convertToInteractive(key) {\n",
              "          const element = document.querySelector('#df-969b59a1-8a00-4121-9ea3-e8c7ed1fe887');\n",
              "          const dataTable =\n",
              "            await google.colab.kernel.invokeFunction('convertToInteractive',\n",
              "                                                     [key], {});\n",
              "          if (!dataTable) return;\n",
              "\n",
              "          const docLinkHtml = 'Like what you see? Visit the ' +\n",
              "            '<a target=\"_blank\" href=https://colab.research.google.com/notebooks/data_table.ipynb>data table notebook</a>'\n",
              "            + ' to learn more about interactive tables.';\n",
              "          element.innerHTML = '';\n",
              "          dataTable['output_type'] = 'display_data';\n",
              "          await google.colab.output.renderOutput(dataTable, element);\n",
              "          const docLink = document.createElement('div');\n",
              "          docLink.innerHTML = docLinkHtml;\n",
              "          element.appendChild(docLink);\n",
              "        }\n",
              "      </script>\n",
              "    </div>\n",
              "  </div>\n",
              "  "
            ]
          },
          "metadata": {},
          "execution_count": 133
        }
      ]
    },
    {
      "cell_type": "markdown",
      "source": [
        "11 physical characteristics of Laptop dataset i.e. Manufacturer, Model Name, Category, Screen Size, Screen, RAM, Storage, GPU, Operating System, Weight - The Independent variables and\n",
        "Price (Euros) - The dependent variable\n",
        "\n",
        "There are a total of 1303 observations."
      ],
      "metadata": {
        "id": "GjqEUKaJqsbp"
      }
    },
    {
      "cell_type": "markdown",
      "source": [
        "# What are the data types? (Only numeric and categorical)\n",
        "A: The data types are mostly numeric data except for Manufacturer, Model Name, Category, Screen, GPU"
      ],
      "metadata": {
        "id": "aDPpqFOd_kvv"
      }
    },
    {
      "cell_type": "markdown",
      "source": [
        "#Which independent variables have missing data? How much?"
      ],
      "metadata": {
        "id": "lj-GBCCRhNhy"
      }
    },
    {
      "cell_type": "code",
      "source": [
        "data.isnull().sum()"
      ],
      "metadata": {
        "colab": {
          "base_uri": "https://localhost:8080/"
        },
        "id": "4Zez9v1EDUK0",
        "outputId": "51cde129-a9c8-4f7a-f49d-2d3afcf17251"
      },
      "execution_count": 134,
      "outputs": [
        {
          "output_type": "execute_result",
          "data": {
            "text/plain": [
              "Manufacturer                  0\n",
              "Model Name                    0\n",
              "Category                      0\n",
              "Screen Size                   0\n",
              "Screen                        0\n",
              "RAM                           0\n",
              " Storage                      0\n",
              "GPU                           0\n",
              "Operating System              0\n",
              "Operating System Version    170\n",
              "Weight                        0\n",
              "Price (Euros)                 0\n",
              "dtype: int64"
            ]
          },
          "metadata": {},
          "execution_count": 134
        }
      ]
    },
    {
      "cell_type": "markdown",
      "source": [
        "A: Above we can see that Operating System Version has missing values but for predicting the Price of the laptop it is not necessary thus we can ignore the column. "
      ],
      "metadata": {
        "id": "uLux61NthRN0"
      }
    },
    {
      "cell_type": "markdown",
      "source": [
        "# Data cleaning\n",
        "The dataset contains various columns like Manufacturer ,Model Name, Category, GPU, Operating System Version do not directly corelate with the price of the laptop so we can drop those columns. On the other hand the data contains valuse which are important to perdict the price of the laptop but are present in String datatype so we are converting those values in Float or Int for calculating the results and work on the data."
      ],
      "metadata": {
        "id": "bvqm9UZHh0xv"
      }
    },
    {
      "cell_type": "code",
      "source": [
        "data = data.dropna()"
      ],
      "metadata": {
        "id": "6WQF_pd3FhC5"
      },
      "execution_count": 135,
      "outputs": []
    },
    {
      "cell_type": "code",
      "source": [
        "data['Screen Size'] = data['Screen Size'].str.replace(r'\\D', '').astype(float)\n",
        "data['RAM'] = data['RAM'].str.replace(r'\\D', '').astype(int)\n",
        "data[' Storage'] = data[' Storage'].str.replace(r'\\D', '').astype(int)\n",
        "data['Weight'] = data['Weight'].str.replace(r'\\D', '').astype(float)"
      ],
      "metadata": {
        "colab": {
          "base_uri": "https://localhost:8080/"
        },
        "id": "JBCBYtPhHSRe",
        "outputId": "0a8b2568-4cc7-4de6-c8ea-b1cd7050d570"
      },
      "execution_count": 136,
      "outputs": [
        {
          "output_type": "stream",
          "name": "stderr",
          "text": [
            "<ipython-input-136-f7dccffda44a>:1: FutureWarning: The default value of regex will change from True to False in a future version.\n",
            "  data['Screen Size'] = data['Screen Size'].str.replace(r'\\D', '').astype(float)\n",
            "<ipython-input-136-f7dccffda44a>:1: SettingWithCopyWarning: \n",
            "A value is trying to be set on a copy of a slice from a DataFrame.\n",
            "Try using .loc[row_indexer,col_indexer] = value instead\n",
            "\n",
            "See the caveats in the documentation: https://pandas.pydata.org/pandas-docs/stable/user_guide/indexing.html#returning-a-view-versus-a-copy\n",
            "  data['Screen Size'] = data['Screen Size'].str.replace(r'\\D', '').astype(float)\n",
            "<ipython-input-136-f7dccffda44a>:2: FutureWarning: The default value of regex will change from True to False in a future version.\n",
            "  data['RAM'] = data['RAM'].str.replace(r'\\D', '').astype(int)\n",
            "<ipython-input-136-f7dccffda44a>:2: SettingWithCopyWarning: \n",
            "A value is trying to be set on a copy of a slice from a DataFrame.\n",
            "Try using .loc[row_indexer,col_indexer] = value instead\n",
            "\n",
            "See the caveats in the documentation: https://pandas.pydata.org/pandas-docs/stable/user_guide/indexing.html#returning-a-view-versus-a-copy\n",
            "  data['RAM'] = data['RAM'].str.replace(r'\\D', '').astype(int)\n",
            "<ipython-input-136-f7dccffda44a>:3: FutureWarning: The default value of regex will change from True to False in a future version.\n",
            "  data[' Storage'] = data[' Storage'].str.replace(r'\\D', '').astype(int)\n",
            "<ipython-input-136-f7dccffda44a>:3: SettingWithCopyWarning: \n",
            "A value is trying to be set on a copy of a slice from a DataFrame.\n",
            "Try using .loc[row_indexer,col_indexer] = value instead\n",
            "\n",
            "See the caveats in the documentation: https://pandas.pydata.org/pandas-docs/stable/user_guide/indexing.html#returning-a-view-versus-a-copy\n",
            "  data[' Storage'] = data[' Storage'].str.replace(r'\\D', '').astype(int)\n",
            "<ipython-input-136-f7dccffda44a>:4: FutureWarning: The default value of regex will change from True to False in a future version.\n",
            "  data['Weight'] = data['Weight'].str.replace(r'\\D', '').astype(float)\n",
            "<ipython-input-136-f7dccffda44a>:4: SettingWithCopyWarning: \n",
            "A value is trying to be set on a copy of a slice from a DataFrame.\n",
            "Try using .loc[row_indexer,col_indexer] = value instead\n",
            "\n",
            "See the caveats in the documentation: https://pandas.pydata.org/pandas-docs/stable/user_guide/indexing.html#returning-a-view-versus-a-copy\n",
            "  data['Weight'] = data['Weight'].str.replace(r'\\D', '').astype(float)\n"
          ]
        }
      ]
    },
    {
      "cell_type": "code",
      "source": [
        "one_hot = {'Windows':1, 'No OS':0, 'Linux':2, 'Chrome OS':3, 'macOS':4, 'Mac OS':4, 'Android':5}\n",
        "\n",
        "data['Operating System'] = [one_hot[item] for item in data['Operating System']]\n",
        "print(data.head())"
      ],
      "metadata": {
        "colab": {
          "base_uri": "https://localhost:8080/"
        },
        "id": "dqqmtiLJLYZ6",
        "outputId": "85990c9d-5cf7-4691-87ca-7347da6dc375"
      },
      "execution_count": 137,
      "outputs": [
        {
          "output_type": "stream",
          "name": "stdout",
          "text": [
            "   Manufacturer       Model Name   Category  Screen Size  \\\n",
            "5          Acer         Aspire 3   Notebook        156.0   \n",
            "6         Apple      MacBook Pro  Ultrabook        154.0   \n",
            "8          Asus  ZenBook UX430UN  Ultrabook        140.0   \n",
            "9          Acer          Swift 3  Ultrabook        140.0   \n",
            "13         Dell    Inspiron 3567   Notebook        156.0   \n",
            "\n",
            "                                Screen  RAM   Storage  \\\n",
            "5                             1366x768    4       500   \n",
            "6   IPS Panel Retina Display 2880x1800   16       256   \n",
            "8                    Full HD 1920x1080   16       512   \n",
            "9          IPS Panel Full HD 1920x1080    8       256   \n",
            "13                   Full HD 1920x1080    4       256   \n",
            "\n",
            "                        GPU  Operating System Operating System Version  \\\n",
            "5             AMD Radeon R5                 1                       10   \n",
            "6   Intel Iris Pro Graphics                 4                        X   \n",
            "8      Nvidia GeForce MX150                 1                       10   \n",
            "9    Intel UHD Graphics 620                 1                       10   \n",
            "13       AMD Radeon R5 M430                 1                       10   \n",
            "\n",
            "    Weight  Price (Euros)  \n",
            "5     21.0         400.00  \n",
            "6    204.0        2139.97  \n",
            "8     13.0        1495.00  \n",
            "9     16.0         770.00  \n",
            "13    22.0         498.90  \n"
          ]
        },
        {
          "output_type": "stream",
          "name": "stderr",
          "text": [
            "<ipython-input-137-4fe49e47678e>:3: SettingWithCopyWarning: \n",
            "A value is trying to be set on a copy of a slice from a DataFrame.\n",
            "Try using .loc[row_indexer,col_indexer] = value instead\n",
            "\n",
            "See the caveats in the documentation: https://pandas.pydata.org/pandas-docs/stable/user_guide/indexing.html#returning-a-view-versus-a-copy\n",
            "  data['Operating System'] = [one_hot[item] for item in data['Operating System']]\n"
          ]
        }
      ]
    },
    {
      "cell_type": "markdown",
      "source": [
        "#How are the values distributed?\n",
        "For this we can use the .describe() method."
      ],
      "metadata": {
        "id": "zObb2aiqlUnp"
      }
    },
    {
      "cell_type": "code",
      "source": [
        "data_norm.describe()"
      ],
      "metadata": {
        "colab": {
          "base_uri": "https://localhost:8080/",
          "height": 300
        },
        "id": "wEvStQ9SlJUB",
        "outputId": "16abf534-9034-43f0-b88c-ba098745d881"
      },
      "execution_count": 138,
      "outputs": [
        {
          "output_type": "execute_result",
          "data": {
            "text/plain": [
              "       Screen Size          RAM        Storage  Operating System       Weight  \\\n",
              "count  1133.000000  1133.000000    1133.000000       1133.000000  1133.000000   \n",
              "mean    150.249779     8.688438    2375.533098          1.021183   122.744925   \n",
              "std      14.128396     5.254564   26297.473767          0.251307   162.198961   \n",
              "min     101.000000     2.000000       1.000000          1.000000     2.000000   \n",
              "25%     140.000000     4.000000     128.000000          1.000000    22.000000   \n",
              "50%     156.000000     8.000000     256.000000          1.000000   116.000000   \n",
              "75%     156.000000     8.000000     512.000000          1.000000   191.000000   \n",
              "max     184.000000    64.000000  512512.000000          4.000000  2591.000000   \n",
              "\n",
              "       Price (Euros)  \n",
              "count    1133.000000  \n",
              "mean     1190.237988  \n",
              "std       705.021847  \n",
              "min       191.900000  \n",
              "25%       669.000000  \n",
              "50%      1049.260000  \n",
              "75%      1545.640000  \n",
              "max      6099.000000  "
            ],
            "text/html": [
              "\n",
              "  <div id=\"df-a512be0c-fab4-4ef8-8c17-0ed32a4930e4\">\n",
              "    <div class=\"colab-df-container\">\n",
              "      <div>\n",
              "<style scoped>\n",
              "    .dataframe tbody tr th:only-of-type {\n",
              "        vertical-align: middle;\n",
              "    }\n",
              "\n",
              "    .dataframe tbody tr th {\n",
              "        vertical-align: top;\n",
              "    }\n",
              "\n",
              "    .dataframe thead th {\n",
              "        text-align: right;\n",
              "    }\n",
              "</style>\n",
              "<table border=\"1\" class=\"dataframe\">\n",
              "  <thead>\n",
              "    <tr style=\"text-align: right;\">\n",
              "      <th></th>\n",
              "      <th>Screen Size</th>\n",
              "      <th>RAM</th>\n",
              "      <th>Storage</th>\n",
              "      <th>Operating System</th>\n",
              "      <th>Weight</th>\n",
              "      <th>Price (Euros)</th>\n",
              "    </tr>\n",
              "  </thead>\n",
              "  <tbody>\n",
              "    <tr>\n",
              "      <th>count</th>\n",
              "      <td>1133.000000</td>\n",
              "      <td>1133.000000</td>\n",
              "      <td>1133.000000</td>\n",
              "      <td>1133.000000</td>\n",
              "      <td>1133.000000</td>\n",
              "      <td>1133.000000</td>\n",
              "    </tr>\n",
              "    <tr>\n",
              "      <th>mean</th>\n",
              "      <td>150.249779</td>\n",
              "      <td>8.688438</td>\n",
              "      <td>2375.533098</td>\n",
              "      <td>1.021183</td>\n",
              "      <td>122.744925</td>\n",
              "      <td>1190.237988</td>\n",
              "    </tr>\n",
              "    <tr>\n",
              "      <th>std</th>\n",
              "      <td>14.128396</td>\n",
              "      <td>5.254564</td>\n",
              "      <td>26297.473767</td>\n",
              "      <td>0.251307</td>\n",
              "      <td>162.198961</td>\n",
              "      <td>705.021847</td>\n",
              "    </tr>\n",
              "    <tr>\n",
              "      <th>min</th>\n",
              "      <td>101.000000</td>\n",
              "      <td>2.000000</td>\n",
              "      <td>1.000000</td>\n",
              "      <td>1.000000</td>\n",
              "      <td>2.000000</td>\n",
              "      <td>191.900000</td>\n",
              "    </tr>\n",
              "    <tr>\n",
              "      <th>25%</th>\n",
              "      <td>140.000000</td>\n",
              "      <td>4.000000</td>\n",
              "      <td>128.000000</td>\n",
              "      <td>1.000000</td>\n",
              "      <td>22.000000</td>\n",
              "      <td>669.000000</td>\n",
              "    </tr>\n",
              "    <tr>\n",
              "      <th>50%</th>\n",
              "      <td>156.000000</td>\n",
              "      <td>8.000000</td>\n",
              "      <td>256.000000</td>\n",
              "      <td>1.000000</td>\n",
              "      <td>116.000000</td>\n",
              "      <td>1049.260000</td>\n",
              "    </tr>\n",
              "    <tr>\n",
              "      <th>75%</th>\n",
              "      <td>156.000000</td>\n",
              "      <td>8.000000</td>\n",
              "      <td>512.000000</td>\n",
              "      <td>1.000000</td>\n",
              "      <td>191.000000</td>\n",
              "      <td>1545.640000</td>\n",
              "    </tr>\n",
              "    <tr>\n",
              "      <th>max</th>\n",
              "      <td>184.000000</td>\n",
              "      <td>64.000000</td>\n",
              "      <td>512512.000000</td>\n",
              "      <td>4.000000</td>\n",
              "      <td>2591.000000</td>\n",
              "      <td>6099.000000</td>\n",
              "    </tr>\n",
              "  </tbody>\n",
              "</table>\n",
              "</div>\n",
              "      <button class=\"colab-df-convert\" onclick=\"convertToInteractive('df-a512be0c-fab4-4ef8-8c17-0ed32a4930e4')\"\n",
              "              title=\"Convert this dataframe to an interactive table.\"\n",
              "              style=\"display:none;\">\n",
              "        \n",
              "  <svg xmlns=\"http://www.w3.org/2000/svg\" height=\"24px\"viewBox=\"0 0 24 24\"\n",
              "       width=\"24px\">\n",
              "    <path d=\"M0 0h24v24H0V0z\" fill=\"none\"/>\n",
              "    <path d=\"M18.56 5.44l.94 2.06.94-2.06 2.06-.94-2.06-.94-.94-2.06-.94 2.06-2.06.94zm-11 1L8.5 8.5l.94-2.06 2.06-.94-2.06-.94L8.5 2.5l-.94 2.06-2.06.94zm10 10l.94 2.06.94-2.06 2.06-.94-2.06-.94-.94-2.06-.94 2.06-2.06.94z\"/><path d=\"M17.41 7.96l-1.37-1.37c-.4-.4-.92-.59-1.43-.59-.52 0-1.04.2-1.43.59L10.3 9.45l-7.72 7.72c-.78.78-.78 2.05 0 2.83L4 21.41c.39.39.9.59 1.41.59.51 0 1.02-.2 1.41-.59l7.78-7.78 2.81-2.81c.8-.78.8-2.07 0-2.86zM5.41 20L4 18.59l7.72-7.72 1.47 1.35L5.41 20z\"/>\n",
              "  </svg>\n",
              "      </button>\n",
              "      \n",
              "  <style>\n",
              "    .colab-df-container {\n",
              "      display:flex;\n",
              "      flex-wrap:wrap;\n",
              "      gap: 12px;\n",
              "    }\n",
              "\n",
              "    .colab-df-convert {\n",
              "      background-color: #E8F0FE;\n",
              "      border: none;\n",
              "      border-radius: 50%;\n",
              "      cursor: pointer;\n",
              "      display: none;\n",
              "      fill: #1967D2;\n",
              "      height: 32px;\n",
              "      padding: 0 0 0 0;\n",
              "      width: 32px;\n",
              "    }\n",
              "\n",
              "    .colab-df-convert:hover {\n",
              "      background-color: #E2EBFA;\n",
              "      box-shadow: 0px 1px 2px rgba(60, 64, 67, 0.3), 0px 1px 3px 1px rgba(60, 64, 67, 0.15);\n",
              "      fill: #174EA6;\n",
              "    }\n",
              "\n",
              "    [theme=dark] .colab-df-convert {\n",
              "      background-color: #3B4455;\n",
              "      fill: #D2E3FC;\n",
              "    }\n",
              "\n",
              "    [theme=dark] .colab-df-convert:hover {\n",
              "      background-color: #434B5C;\n",
              "      box-shadow: 0px 1px 3px 1px rgba(0, 0, 0, 0.15);\n",
              "      filter: drop-shadow(0px 1px 2px rgba(0, 0, 0, 0.3));\n",
              "      fill: #FFFFFF;\n",
              "    }\n",
              "  </style>\n",
              "\n",
              "      <script>\n",
              "        const buttonEl =\n",
              "          document.querySelector('#df-a512be0c-fab4-4ef8-8c17-0ed32a4930e4 button.colab-df-convert');\n",
              "        buttonEl.style.display =\n",
              "          google.colab.kernel.accessAllowed ? 'block' : 'none';\n",
              "\n",
              "        async function convertToInteractive(key) {\n",
              "          const element = document.querySelector('#df-a512be0c-fab4-4ef8-8c17-0ed32a4930e4');\n",
              "          const dataTable =\n",
              "            await google.colab.kernel.invokeFunction('convertToInteractive',\n",
              "                                                     [key], {});\n",
              "          if (!dataTable) return;\n",
              "\n",
              "          const docLinkHtml = 'Like what you see? Visit the ' +\n",
              "            '<a target=\"_blank\" href=https://colab.research.google.com/notebooks/data_table.ipynb>data table notebook</a>'\n",
              "            + ' to learn more about interactive tables.';\n",
              "          element.innerHTML = '';\n",
              "          dataTable['output_type'] = 'display_data';\n",
              "          await google.colab.output.renderOutput(dataTable, element);\n",
              "          const docLink = document.createElement('div');\n",
              "          docLink.innerHTML = docLinkHtml;\n",
              "          element.appendChild(docLink);\n",
              "        }\n",
              "      </script>\n",
              "    </div>\n",
              "  </div>\n",
              "  "
            ]
          },
          "metadata": {},
          "execution_count": 138
        }
      ]
    },
    {
      "cell_type": "markdown",
      "source": [
        "Above we get a general description of numeric data which mentions the mean, standard deviation, min value, max value etc."
      ],
      "metadata": {
        "id": "o_5akbXCl4Yz"
      }
    },
    {
      "cell_type": "markdown",
      "source": [
        "# What are the distributions of the predictor variables?"
      ],
      "metadata": {
        "id": "k9pi7YZsl_hw"
      }
    },
    {
      "cell_type": "code",
      "source": [
        "from statsmodels.graphics.gofplots import qqplot\n",
        "data_norm=data[['Screen Size', 'RAM', ' Storage','Operating System', 'Weight', 'Price (Euros)']]\n",
        "for c in data_norm.columns[:]:\n",
        "  plt.figure(figsize=(8,5))\n",
        "  fig=qqplot(data_norm[c],line='45',fit='True')\n",
        "  plt.xticks(fontsize=13)\n",
        "  plt.yticks(fontsize=13)\n",
        "  plt.xlabel(\"Theoretical quantiles\",fontsize=15)\n",
        "  plt.ylabel(\"Sample quantiles\",fontsize=15)\n",
        "  plt.title(\"Q-Q plot of {}\".format(c),fontsize=16)\n",
        "  plt.grid(True)\n",
        "  plt.show()"
      ],
      "metadata": {
        "colab": {
          "base_uri": "https://localhost:8080/",
          "height": 1000
        },
        "id": "cvNECxl0OApM",
        "outputId": "7f45ac7c-6cf1-47c0-92f0-34c4b20770b1"
      },
      "execution_count": 139,
      "outputs": [
        {
          "output_type": "display_data",
          "data": {
            "text/plain": [
              "<Figure size 576x360 with 0 Axes>"
            ]
          },
          "metadata": {}
        },
        {
          "output_type": "display_data",
          "data": {
            "text/plain": [
              "<Figure size 432x288 with 1 Axes>"
            ],
            "image/png": "[encoded data removed]"
          },
          "metadata": {
            "needs_background": "light"
          }
        },
        {
          "output_type": "display_data",
          "data": {
            "text/plain": [
              "<Figure size 576x360 with 0 Axes>"
            ]
          },
          "metadata": {}
        },
        {
          "output_type": "display_data",
          "data": {
            "text/plain": [
              "<Figure size 432x288 with 1 Axes>"
            ],
            "image/png": "[encoded data removed]"
          },
          "metadata": {
            "needs_background": "light"
          }
        },
        {
          "output_type": "display_data",
          "data": {
            "text/plain": [
              "<Figure size 576x360 with 0 Axes>"
            ]
          },
          "metadata": {}
        },
        {
          "output_type": "display_data",
          "data": {
            "text/plain": [
              "<Figure size 432x288 with 1 Axes>"
            ],
            "image/png": "[encoded data removed]"
          },
          "metadata": {
            "needs_background": "light"
          }
        },
        {
          "output_type": "display_data",
          "data": {
            "text/plain": [
              "<Figure size 576x360 with 0 Axes>"
            ]
          },
          "metadata": {}
        },
        {
          "output_type": "display_data",
          "data": {
            "text/plain": [
              "<Figure size 432x288 with 1 Axes>"
            ],
            "image/png": "[encoded data removed]"
          },
          "metadata": {
            "needs_background": "light"
          }
        },
        {
          "output_type": "display_data",
          "data": {
            "text/plain": [
              "<Figure size 576x360 with 0 Axes>"
            ]
          },
          "metadata": {}
        },
        {
          "output_type": "display_data",
          "data": {
            "text/plain": [
              "<Figure size 432x288 with 1 Axes>"
            ],
            "image/png": "[encoded data removed]"
          },
          "metadata": {
            "needs_background": "light"
          }
        },
        {
          "output_type": "display_data",
          "data": {
            "text/plain": [
              "<Figure size 576x360 with 0 Axes>"
            ]
          },
          "metadata": {}
        },
        {
          "output_type": "display_data",
          "data": {
            "text/plain": [
              "<Figure size 432x288 with 1 Axes>"
            ],
            "image/png": "[encoded data removed]"
          },
          "metadata": {
            "needs_background": "light"
          }
        }
      ]
    },
    {
      "cell_type": "markdown",
      "source": [
        "|Column name | Distributions|\n",
        "|------------|:-------------|\n",
        "| Screen Size    | Step distribution|\n",
        "|RAM | Step distribution|\n",
        "|Storage| Step distribution |\n",
        "|Operating System| Step distribution|\n",
        "|Weight| Exponential distribution|\n",
        "|Price (Euros)| Exponential distribution|\n",
        "\n"
      ],
      "metadata": {
        "id": "EZ77euqOcoJf"
      }
    },
    {
      "cell_type": "markdown",
      "source": [
        "# Data Normalization\n",
        "We have data and the respective features selected. We want to predict for price of the laptop based on the features we have selected."
      ],
      "metadata": {
        "id": "enWZRUyhmUmM"
      }
    },
    {
      "cell_type": "code",
      "source": [
        "plt.figure(figsize=(20,7))\n",
        "#data = data[['Screen Size', 'RAM', ' Storage', 'Operating System', 'Weight', 'Price (Euros)']]\n",
        "sns.boxplot(data=data_norm)"
      ],
      "metadata": {
        "colab": {
          "base_uri": "https://localhost:8080/",
          "height": 440
        },
        "id": "Do3q_pDAOcdk",
        "outputId": "990b3944-d7c9-44c0-b51f-6a3e07759c20"
      },
      "execution_count": 140,
      "outputs": [
        {
          "output_type": "execute_result",
          "data": {
            "text/plain": [
              "<matplotlib.axes._subplots.AxesSubplot at 0x7f1f2d83bac0>"
            ]
          },
          "metadata": {},
          "execution_count": 140
        },
        {
          "output_type": "display_data",
          "data": {
            "text/plain": [
              "<Figure size 1440x504 with 1 Axes>"
            ],
            "image/png": "[encoded data removed]"
          },
          "metadata": {
            "needs_background": "light"
          }
        }
      ]
    },
    {
      "cell_type": "markdown",
      "source": [
        "We need to normalize the data for Storage, Screen Size, Operating System, RAM, Weight, Price (Euros)."
      ],
      "metadata": {
        "id": "R3zMfa_Tmaam"
      }
    },
    {
      "cell_type": "code",
      "source": [
        "data = pd.get_dummies(data_norm)\n",
        "from sklearn import preprocessing\n",
        "\n",
        "xJS = data[[' Storage']].values.astype(float)\n",
        "min_max_scaler = preprocessing.MinMaxScaler()\n",
        "xS = min_max_scaler.fit_transform(xJS)\n",
        "data[[' Storage']] = pd.DataFrame(xS)\n",
        "\n",
        "xJSS = data[['Screen Size']].values.astype(float)\n",
        "min_max_scaler = preprocessing.MinMaxScaler()\n",
        "xSS = min_max_scaler.fit_transform(xJSS)\n",
        "data[['Screen Size']] = pd.DataFrame(xSS)\n",
        "\n",
        "xJOS = data[['Operating System']].values.astype(float)\n",
        "min_max_scaler = preprocessing.MinMaxScaler()\n",
        "xOS = min_max_scaler.fit_transform(xJOS)\n",
        "data[['Operating System']] = pd.DataFrame(xOS)\n",
        "\n",
        "xJR = data[['RAM']].values.astype(float)\n",
        "min_max_scaler = preprocessing.MinMaxScaler()\n",
        "xR = min_max_scaler.fit_transform(xJR)\n",
        "data[['RAM']] = pd.DataFrame(xR)\n",
        "\n",
        "xJW = data[['Weight']].values.astype(float)\n",
        "min_max_scaler = preprocessing.MinMaxScaler()\n",
        "xW = min_max_scaler.fit_transform(xJW)\n",
        "data[['Weight']] = pd.DataFrame(xW)\n",
        "\n",
        "xJP = data[['Price (Euros)']].values.astype(float)\n",
        "min_max_scaler = preprocessing.MinMaxScaler()\n",
        "xP = min_max_scaler.fit_transform(xJP)\n",
        "data[['Price (Euros)']] = pd.DataFrame(xP)\n",
        "\n",
        "\n",
        "plt.figure(figsize=(20,7))\n",
        "sns.boxplot(data=data)"
      ],
      "metadata": {
        "colab": {
          "base_uri": "https://localhost:8080/",
          "height": 445
        },
        "id": "uke2ch-rPF_y",
        "outputId": "7fa749dd-2fe5-40fb-c284-ec291b33a957"
      },
      "execution_count": 141,
      "outputs": [
        {
          "output_type": "execute_result",
          "data": {
            "text/plain": [
              "<matplotlib.axes._subplots.AxesSubplot at 0x7f1f284d23d0>"
            ]
          },
          "metadata": {},
          "execution_count": 141
        },
        {
          "output_type": "display_data",
          "data": {
            "text/plain": [
              "<Figure size 1440x504 with 1 Axes>"
            ],
            "image/png": "[encoded data removed]"
          },
          "metadata": {
            "needs_background": "light"
          }
        }
      ]
    },
    {
      "cell_type": "markdown",
      "source": [
        "1)Looking at the boxplot we can see that there are outliers for Screen Size, RAM, Storage, Weight and Price (Euros).\n",
        "\n",
        "2) Most outliers is in Price (Euros) and the value is between 0.4-0.6, and it is negatively skewed, meaning most of the data values are concentrated at the lower end of the scale aling with the median"
      ],
      "metadata": {
        "id": "B_55snVq4rLc"
      }
    },
    {
      "cell_type": "markdown",
      "source": [
        "#Which independent variables are useful to predict a target (dependent variable)? (Use at least three methods)\n",
        "#Method 1:\n",
        "By using correlations we can see that certain values have a higher importance. To better visualize this we will use heatmap."
      ],
      "metadata": {
        "id": "JOoIsCTimmD0"
      }
    },
    {
      "cell_type": "code",
      "source": [
        "data_norm.corr()"
      ],
      "metadata": {
        "colab": {
          "base_uri": "https://localhost:8080/",
          "height": 237
        },
        "id": "XNEuPBLIUAUi",
        "outputId": "4a987022-5794-4691-83e0-e9c57a616fe7"
      },
      "execution_count": 142,
      "outputs": [
        {
          "output_type": "execute_result",
          "data": {
            "text/plain": [
              "                  Screen Size       RAM   Storage  Operating System    Weight  \\\n",
              "Screen Size          1.000000  0.252542  0.032890         -0.138831  0.043915   \n",
              "RAM                  0.252542  1.000000  0.072414         -0.003025  0.106961   \n",
              " Storage             0.032890  0.072414  1.000000         -0.006646  0.025073   \n",
              "Operating System    -0.138831 -0.003025 -0.006646          1.000000  0.213256   \n",
              "Weight               0.043915  0.106961  0.025073          0.213256  1.000000   \n",
              "Price (Euros)        0.085383  0.734775  0.040718          0.008691  0.133459   \n",
              "\n",
              "                  Price (Euros)  \n",
              "Screen Size            0.085383  \n",
              "RAM                    0.734775  \n",
              " Storage               0.040718  \n",
              "Operating System       0.008691  \n",
              "Weight                 0.133459  \n",
              "Price (Euros)          1.000000  "
            ],
            "text/html": [
              "\n",
              "  <div id=\"df-2a880294-34a7-4a56-a75d-1ac1296ef5d6\">\n",
              "    <div class=\"colab-df-container\">\n",
              "      <div>\n",
              "<style scoped>\n",
              "    .dataframe tbody tr th:only-of-type {\n",
              "        vertical-align: middle;\n",
              "    }\n",
              "\n",
              "    .dataframe tbody tr th {\n",
              "        vertical-align: top;\n",
              "    }\n",
              "\n",
              "    .dataframe thead th {\n",
              "        text-align: right;\n",
              "    }\n",
              "</style>\n",
              "<table border=\"1\" class=\"dataframe\">\n",
              "  <thead>\n",
              "    <tr style=\"text-align: right;\">\n",
              "      <th></th>\n",
              "      <th>Screen Size</th>\n",
              "      <th>RAM</th>\n",
              "      <th>Storage</th>\n",
              "      <th>Operating System</th>\n",
              "      <th>Weight</th>\n",
              "      <th>Price (Euros)</th>\n",
              "    </tr>\n",
              "  </thead>\n",
              "  <tbody>\n",
              "    <tr>\n",
              "      <th>Screen Size</th>\n",
              "      <td>1.000000</td>\n",
              "      <td>0.252542</td>\n",
              "      <td>0.032890</td>\n",
              "      <td>-0.138831</td>\n",
              "      <td>0.043915</td>\n",
              "      <td>0.085383</td>\n",
              "    </tr>\n",
              "    <tr>\n",
              "      <th>RAM</th>\n",
              "      <td>0.252542</td>\n",
              "      <td>1.000000</td>\n",
              "      <td>0.072414</td>\n",
              "      <td>-0.003025</td>\n",
              "      <td>0.106961</td>\n",
              "      <td>0.734775</td>\n",
              "    </tr>\n",
              "    <tr>\n",
              "      <th>Storage</th>\n",
              "      <td>0.032890</td>\n",
              "      <td>0.072414</td>\n",
              "      <td>1.000000</td>\n",
              "      <td>-0.006646</td>\n",
              "      <td>0.025073</td>\n",
              "      <td>0.040718</td>\n",
              "    </tr>\n",
              "    <tr>\n",
              "      <th>Operating System</th>\n",
              "      <td>-0.138831</td>\n",
              "      <td>-0.003025</td>\n",
              "      <td>-0.006646</td>\n",
              "      <td>1.000000</td>\n",
              "      <td>0.213256</td>\n",
              "      <td>0.008691</td>\n",
              "    </tr>\n",
              "    <tr>\n",
              "      <th>Weight</th>\n",
              "      <td>0.043915</td>\n",
              "      <td>0.106961</td>\n",
              "      <td>0.025073</td>\n",
              "      <td>0.213256</td>\n",
              "      <td>1.000000</td>\n",
              "      <td>0.133459</td>\n",
              "    </tr>\n",
              "    <tr>\n",
              "      <th>Price (Euros)</th>\n",
              "      <td>0.085383</td>\n",
              "      <td>0.734775</td>\n",
              "      <td>0.040718</td>\n",
              "      <td>0.008691</td>\n",
              "      <td>0.133459</td>\n",
              "      <td>1.000000</td>\n",
              "    </tr>\n",
              "  </tbody>\n",
              "</table>\n",
              "</div>\n",
              "      <button class=\"colab-df-convert\" onclick=\"convertToInteractive('df-2a880294-34a7-4a56-a75d-1ac1296ef5d6')\"\n",
              "              title=\"Convert this dataframe to an interactive table.\"\n",
              "              style=\"display:none;\">\n",
              "        \n",
              "  <svg xmlns=\"http://www.w3.org/2000/svg\" height=\"24px\"viewBox=\"0 0 24 24\"\n",
              "       width=\"24px\">\n",
              "    <path d=\"M0 0h24v24H0V0z\" fill=\"none\"/>\n",
              "    <path d=\"M18.56 5.44l.94 2.06.94-2.06 2.06-.94-2.06-.94-.94-2.06-.94 2.06-2.06.94zm-11 1L8.5 8.5l.94-2.06 2.06-.94-2.06-.94L8.5 2.5l-.94 2.06-2.06.94zm10 10l.94 2.06.94-2.06 2.06-.94-2.06-.94-.94-2.06-.94 2.06-2.06.94z\"/><path d=\"M17.41 7.96l-1.37-1.37c-.4-.4-.92-.59-1.43-.59-.52 0-1.04.2-1.43.59L10.3 9.45l-7.72 7.72c-.78.78-.78 2.05 0 2.83L4 21.41c.39.39.9.59 1.41.59.51 0 1.02-.2 1.41-.59l7.78-7.78 2.81-2.81c.8-.78.8-2.07 0-2.86zM5.41 20L4 18.59l7.72-7.72 1.47 1.35L5.41 20z\"/>\n",
              "  </svg>\n",
              "      </button>\n",
              "      \n",
              "  <style>\n",
              "    .colab-df-container {\n",
              "      display:flex;\n",
              "      flex-wrap:wrap;\n",
              "      gap: 12px;\n",
              "    }\n",
              "\n",
              "    .colab-df-convert {\n",
              "      background-color: #E8F0FE;\n",
              "      border: none;\n",
              "      border-radius: 50%;\n",
              "      cursor: pointer;\n",
              "      display: none;\n",
              "      fill: #1967D2;\n",
              "      height: 32px;\n",
              "      padding: 0 0 0 0;\n",
              "      width: 32px;\n",
              "    }\n",
              "\n",
              "    .colab-df-convert:hover {\n",
              "      background-color: #E2EBFA;\n",
              "      box-shadow: 0px 1px 2px rgba(60, 64, 67, 0.3), 0px 1px 3px 1px rgba(60, 64, 67, 0.15);\n",
              "      fill: #174EA6;\n",
              "    }\n",
              "\n",
              "    [theme=dark] .colab-df-convert {\n",
              "      background-color: #3B4455;\n",
              "      fill: #D2E3FC;\n",
              "    }\n",
              "\n",
              "    [theme=dark] .colab-df-convert:hover {\n",
              "      background-color: #434B5C;\n",
              "      box-shadow: 0px 1px 3px 1px rgba(0, 0, 0, 0.15);\n",
              "      filter: drop-shadow(0px 1px 2px rgba(0, 0, 0, 0.3));\n",
              "      fill: #FFFFFF;\n",
              "    }\n",
              "  </style>\n",
              "\n",
              "      <script>\n",
              "        const buttonEl =\n",
              "          document.querySelector('#df-2a880294-34a7-4a56-a75d-1ac1296ef5d6 button.colab-df-convert');\n",
              "        buttonEl.style.display =\n",
              "          google.colab.kernel.accessAllowed ? 'block' : 'none';\n",
              "\n",
              "        async function convertToInteractive(key) {\n",
              "          const element = document.querySelector('#df-2a880294-34a7-4a56-a75d-1ac1296ef5d6');\n",
              "          const dataTable =\n",
              "            await google.colab.kernel.invokeFunction('convertToInteractive',\n",
              "                                                     [key], {});\n",
              "          if (!dataTable) return;\n",
              "\n",
              "          const docLinkHtml = 'Like what you see? Visit the ' +\n",
              "            '<a target=\"_blank\" href=https://colab.research.google.com/notebooks/data_table.ipynb>data table notebook</a>'\n",
              "            + ' to learn more about interactive tables.';\n",
              "          element.innerHTML = '';\n",
              "          dataTable['output_type'] = 'display_data';\n",
              "          await google.colab.output.renderOutput(dataTable, element);\n",
              "          const docLink = document.createElement('div');\n",
              "          docLink.innerHTML = docLinkHtml;\n",
              "          element.appendChild(docLink);\n",
              "        }\n",
              "      </script>\n",
              "    </div>\n",
              "  </div>\n",
              "  "
            ]
          },
          "metadata": {},
          "execution_count": 142
        }
      ]
    },
    {
      "cell_type": "markdown",
      "source": [],
      "metadata": {
        "id": "kxf0YsFMT_8D"
      }
    },
    {
      "cell_type": "code",
      "source": [
        "plt.figure(figsize=(20,7))\n",
        "sns.heatmap(data_norm.corr(), annot=True, cmap='RdYlGn')\n"
      ],
      "metadata": {
        "colab": {
          "base_uri": "https://localhost:8080/",
          "height": 449
        },
        "id": "hjzB4DdbUZOu",
        "outputId": "f8eb5498-2afd-454a-ad88-2a8a10e0be69"
      },
      "execution_count": 143,
      "outputs": [
        {
          "output_type": "execute_result",
          "data": {
            "text/plain": [
              "<matplotlib.axes._subplots.AxesSubplot at 0x7f1f28454d90>"
            ]
          },
          "metadata": {},
          "execution_count": 143
        },
        {
          "output_type": "display_data",
          "data": {
            "text/plain": [
              "<Figure size 1440x504 with 2 Axes>"
            ],
            "image/png": "[encoded data removed]"
          },
          "metadata": {
            "needs_background": "light"
          }
        }
      ]
    },
    {
      "cell_type": "markdown",
      "source": [
        "We can see there are lot of co-relation among the variables. The co-relation between RAM and Price (Euros) being the highest (0.73), it may mean that essentially both are measuring or predicting same thing"
      ],
      "metadata": {
        "id": "l3lcwCncw3tW"
      }
    },
    {
      "cell_type": "code",
      "source": [
        "sns.pairplot(data_norm)"
      ],
      "metadata": {
        "colab": {
          "base_uri": "https://localhost:8080/",
          "height": 1000
        },
        "id": "6Bma3rsaUiDu",
        "outputId": "4c6252c8-d36f-48b9-bad1-4fbdad783043"
      },
      "execution_count": 144,
      "outputs": [
        {
          "output_type": "execute_result",
          "data": {
            "text/plain": [
              "<seaborn.axisgrid.PairGrid at 0x7f1f2832ef70>"
            ]
          },
          "metadata": {},
          "execution_count": 144
        },
        {
          "output_type": "display_data",
          "data": {
            "text/plain": [
              "<Figure size 1080x1080 with 42 Axes>"
            ],
            "image/png": "[encoded data removed]"
          },
          "metadata": {
            "needs_background": "light"
          }
        }
      ]
    },
    {
      "cell_type": "markdown",
      "source": [
        "From this we can relate that Price is more dependent on RAM than all the other variables."
      ],
      "metadata": {
        "id": "YZoe1aCDm9l6"
      }
    },
    {
      "cell_type": "markdown",
      "source": [
        "# Identifing predictor significance"
      ],
      "metadata": {
        "id": "M8PIYk4GXZ7-"
      }
    },
    {
      "cell_type": "markdown",
      "source": [
        "#Method 2:\n",
        "By using model summary using ordinary least squared regression, we can see that higher T-statistic value gives more importance to the significance of the predictor variables."
      ],
      "metadata": {
        "id": "ZKdALGK5oDBN"
      }
    },
    {
      "cell_type": "code",
      "source": [
        "import statsmodels.api as sm\n",
        "model = sm.OLS(data_norm['Price (Euros)'], data_norm[['Screen Size', 'RAM', ' Storage', 'Operating System', 'Weight']].replace(',', '', regex = True).astype(float)).fit()"
      ],
      "metadata": {
        "id": "spsfy_5oVVkP"
      },
      "execution_count": 145,
      "outputs": []
    },
    {
      "cell_type": "code",
      "source": [
        "model.summary()"
      ],
      "metadata": {
        "colab": {
          "base_uri": "https://localhost:8080/",
          "height": 568
        },
        "id": "vJF10-ydW7_r",
        "outputId": "bc37fdfe-ec6f-4faf-97c7-cfc3c33eb01a"
      },
      "execution_count": 146,
      "outputs": [
        {
          "output_type": "execute_result",
          "data": {
            "text/plain": [
              "<class 'statsmodels.iolib.summary.Summary'>\n",
              "\"\"\"\n",
              "                                 OLS Regression Results                                \n",
              "=======================================================================================\n",
              "Dep. Variable:          Price (Euros)   R-squared (uncentered):                   0.880\n",
              "Model:                            OLS   Adj. R-squared (uncentered):              0.879\n",
              "Method:                 Least Squares   F-statistic:                              1648.\n",
              "Date:                Sun, 05 Feb 2023   Prob (F-statistic):                        0.00\n",
              "Time:                        03:58:46   Log-Likelihood:                         -8602.5\n",
              "No. Observations:                1133   AIC:                                  1.721e+04\n",
              "Df Residuals:                    1128   BIC:                                  1.724e+04\n",
              "Df Model:                           5                                                  \n",
              "Covariance Type:            nonrobust                                                  \n",
              "====================================================================================\n",
              "                       coef    std err          t      P>|t|      [0.025      0.975]\n",
              "------------------------------------------------------------------------------------\n",
              "Screen Size          1.0131      0.393      2.578      0.010       0.242       1.784\n",
              "RAM                 99.7715      2.819     35.390      0.000      94.240     105.303\n",
              " Storage            -0.0004      0.001     -0.677      0.498      -0.001       0.001\n",
              "Operating System   133.8631     52.082      2.570      0.010      31.675     236.051\n",
              "Weight               0.2242      0.091      2.473      0.014       0.046       0.402\n",
              "==============================================================================\n",
              "Omnibus:                      219.392   Durbin-Watson:                   1.999\n",
              "Prob(Omnibus):                  0.000   Jarque-Bera (JB):              909.449\n",
              "Skew:                           0.862   Prob(JB):                    3.28e-198\n",
              "Kurtosis:                       7.037   Cond. No.                     9.62e+04\n",
              "==============================================================================\n",
              "\n",
              "Notes:\n",
              "[1] R² is computed without centering (uncentered) since the model does not contain a constant.\n",
              "[2] Standard Errors assume that the covariance matrix of the errors is correctly specified.\n",
              "[3] The condition number is large, 9.62e+04. This might indicate that there are\n",
              "strong multicollinearity or other numerical problems.\n",
              "\"\"\""
            ],
            "text/html": [
              "<table class=\"simpletable\">\n",
              "<caption>OLS Regression Results</caption>\n",
              "<tr>\n",
              "  <th>Dep. Variable:</th>      <td>Price (Euros)</td>  <th>  R-squared (uncentered):</th>      <td>   0.880</td> \n",
              "</tr>\n",
              "<tr>\n",
              "  <th>Model:</th>                   <td>OLS</td>       <th>  Adj. R-squared (uncentered):</th> <td>   0.879</td> \n",
              "</tr>\n",
              "<tr>\n",
              "  <th>Method:</th>             <td>Least Squares</td>  <th>  F-statistic:       </th>          <td>   1648.</td> \n",
              "</tr>\n",
              "<tr>\n",
              "  <th>Date:</th>             <td>Sun, 05 Feb 2023</td> <th>  Prob (F-statistic):</th>           <td>  0.00</td>  \n",
              "</tr>\n",
              "<tr>\n",
              "  <th>Time:</th>                 <td>03:58:46</td>     <th>  Log-Likelihood:    </th>          <td> -8602.5</td> \n",
              "</tr>\n",
              "<tr>\n",
              "  <th>No. Observations:</th>      <td>  1133</td>      <th>  AIC:               </th>          <td>1.721e+04</td>\n",
              "</tr>\n",
              "<tr>\n",
              "  <th>Df Residuals:</th>          <td>  1128</td>      <th>  BIC:               </th>          <td>1.724e+04</td>\n",
              "</tr>\n",
              "<tr>\n",
              "  <th>Df Model:</th>              <td>     5</td>      <th>                     </th>              <td> </td>    \n",
              "</tr>\n",
              "<tr>\n",
              "  <th>Covariance Type:</th>      <td>nonrobust</td>    <th>                     </th>              <td> </td>    \n",
              "</tr>\n",
              "</table>\n",
              "<table class=\"simpletable\">\n",
              "<tr>\n",
              "          <td></td>            <th>coef</th>     <th>std err</th>      <th>t</th>      <th>P>|t|</th>  <th>[0.025</th>    <th>0.975]</th>  \n",
              "</tr>\n",
              "<tr>\n",
              "  <th>Screen Size</th>      <td>    1.0131</td> <td>    0.393</td> <td>    2.578</td> <td> 0.010</td> <td>    0.242</td> <td>    1.784</td>\n",
              "</tr>\n",
              "<tr>\n",
              "  <th>RAM</th>              <td>   99.7715</td> <td>    2.819</td> <td>   35.390</td> <td> 0.000</td> <td>   94.240</td> <td>  105.303</td>\n",
              "</tr>\n",
              "<tr>\n",
              "  <th> Storage</th>         <td>   -0.0004</td> <td>    0.001</td> <td>   -0.677</td> <td> 0.498</td> <td>   -0.001</td> <td>    0.001</td>\n",
              "</tr>\n",
              "<tr>\n",
              "  <th>Operating System</th> <td>  133.8631</td> <td>   52.082</td> <td>    2.570</td> <td> 0.010</td> <td>   31.675</td> <td>  236.051</td>\n",
              "</tr>\n",
              "<tr>\n",
              "  <th>Weight</th>           <td>    0.2242</td> <td>    0.091</td> <td>    2.473</td> <td> 0.014</td> <td>    0.046</td> <td>    0.402</td>\n",
              "</tr>\n",
              "</table>\n",
              "<table class=\"simpletable\">\n",
              "<tr>\n",
              "  <th>Omnibus:</th>       <td>219.392</td> <th>  Durbin-Watson:     </th> <td>   1.999</td> \n",
              "</tr>\n",
              "<tr>\n",
              "  <th>Prob(Omnibus):</th> <td> 0.000</td>  <th>  Jarque-Bera (JB):  </th> <td> 909.449</td> \n",
              "</tr>\n",
              "<tr>\n",
              "  <th>Skew:</th>          <td> 0.862</td>  <th>  Prob(JB):          </th> <td>3.28e-198</td>\n",
              "</tr>\n",
              "<tr>\n",
              "  <th>Kurtosis:</th>      <td> 7.037</td>  <th>  Cond. No.          </th> <td>9.62e+04</td> \n",
              "</tr>\n",
              "</table><br/><br/>Notes:<br/>[1] R² is computed without centering (uncentered) since the model does not contain a constant.<br/>[2] Standard Errors assume that the covariance matrix of the errors is correctly specified.<br/>[3] The condition number is large, 9.62e+04. This might indicate that there are<br/>strong multicollinearity or other numerical problems."
            ]
          },
          "metadata": {},
          "execution_count": 146
        }
      ]
    },
    {
      "cell_type": "markdown",
      "source": [
        "# **Method 3:**\n",
        "We can use model coefficiants to determine the importance of he varible. For this \n",
        "- We must first build our model\n",
        "- Fit the values of train on the model\n",
        "- And use model.coef_ to retrieve the coefficients.\n",
        " \n",
        "# Building the Model"
      ],
      "metadata": {
        "id": "NWkbxU9iXtfU"
      }
    },
    {
      "cell_type": "markdown",
      "source": [
        "Train ,Validation and Test split"
      ],
      "metadata": {
        "id": "n35ZoDkbX13U"
      }
    },
    {
      "cell_type": "code",
      "source": [
        "from sklearn.model_selection import train_test_split\n",
        "\n",
        "x = data_norm[['Screen Size', 'RAM', 'Operating System', ' Storage', 'Weight']]\n",
        "y = data_norm[['Price (Euros)']]\n",
        "\n",
        "print(x.head())"
      ],
      "metadata": {
        "colab": {
          "base_uri": "https://localhost:8080/"
        },
        "id": "ChDL7_v_VlHd",
        "outputId": "8b9b10c5-ab46-42c1-943b-1bc02f06312d"
      },
      "execution_count": 147,
      "outputs": [
        {
          "output_type": "stream",
          "name": "stdout",
          "text": [
            "    Screen Size  RAM  Operating System   Storage  Weight\n",
            "5         156.0    4                 1       500    21.0\n",
            "6         154.0   16                 4       256   204.0\n",
            "8         140.0   16                 1       512    13.0\n",
            "9         140.0    8                 1       256    16.0\n",
            "13        156.0    4                 1       256    22.0\n"
          ]
        }
      ]
    },
    {
      "cell_type": "code",
      "source": [
        "X_t, X_test, y_t, y_test = train_test_split(x, y, test_size=0.1, random_state=1)\n",
        "x_train, x_val, y_train, y_val = train_test_split(X_t, y_t, test_size=0.15)"
      ],
      "metadata": {
        "id": "yIZHzDEsYgh0"
      },
      "execution_count": 148,
      "outputs": []
    },
    {
      "cell_type": "code",
      "source": [
        "X_test_plot = X_test[['Screen Size', 'RAM', ' Storage', 'Operating System', 'Weight']]\n",
        "\n",
        "X_val_plot = x_val[['Screen Size', 'RAM', ' Storage', 'Operating System', 'Weight']]\n",
        "\n",
        "X_train_plot = x_train[['Screen Size', 'RAM', ' Storage','Operating System', 'Weight']]\n",
        "for c in X_test_plot.columns[:]:\n",
        "  plt.figure(figsize=(8,6))\n",
        "  plt.hist(X_val_plot[c], bins=20, alpha=0.5, label=\"validation\")\n",
        "  plt.hist(X_test_plot[c], bins=20, alpha=0.5, label=\"test\")\n",
        "  plt.hist(X_train_plot[c], bins=20, alpha=0.5, label=\"train\")\n",
        "  plt.xlabel(c, size=14)\n",
        "  plt.ylabel(\"Count\", size=14)\n",
        "  plt.legend(loc='upper right')\n",
        "  plt.title(\"{} distribution\".format(c))\n",
        "  plt.show() "
      ],
      "metadata": {
        "colab": {
          "base_uri": "https://localhost:8080/",
          "height": 1000
        },
        "id": "9MsVMTTyYlbY",
        "outputId": "9937c8a0-4faa-4365-bc9d-0dad616a0f1f"
      },
      "execution_count": 149,
      "outputs": [
        {
          "output_type": "display_data",
          "data": {
            "text/plain": [
              "<Figure size 576x432 with 1 Axes>"
            ],
            "image/png": "[encoded data removed]"
          },
          "metadata": {
            "needs_background": "light"
          }
        },
        {
          "output_type": "display_data",
          "data": {
            "text/plain": [
              "<Figure size 576x432 with 1 Axes>"
            ],
            "image/png": "[encoded data removed]"
          },
          "metadata": {
            "needs_background": "light"
          }
        },
        {
          "output_type": "display_data",
          "data": {
            "text/plain": [
              "<Figure size 576x432 with 1 Axes>"
            ],
            "image/png": "[encoded data removed]"
          },
          "metadata": {
            "needs_background": "light"
          }
        },
        {
          "output_type": "display_data",
          "data": {
            "text/plain": [
              "<Figure size 576x432 with 1 Axes>"
            ],
            "image/png": "[encoded data removed]"
          },
          "metadata": {
            "needs_background": "light"
          }
        },
        {
          "output_type": "display_data",
          "data": {
            "text/plain": [
              "<Figure size 576x432 with 1 Axes>"
            ],
            "image/png": "[encoded data removed]"
          },
          "metadata": {
            "needs_background": "light"
          }
        }
      ]
    },
    {
      "cell_type": "markdown",
      "source": [
        "# Linear Regression"
      ],
      "metadata": {
        "id": "R5nhsdSKZVRP"
      }
    },
    {
      "cell_type": "code",
      "source": [
        "from sklearn.metrics import r2_score, mean_squared_error \n",
        "from sklearn.linear_model import LinearRegression\n",
        "from sklearn import datasets, linear_model\n"
      ],
      "metadata": {
        "id": "ohgcRhaLZYgT"
      },
      "execution_count": 160,
      "outputs": []
    },
    {
      "cell_type": "code",
      "source": [
        "y_predict = regr.predict(x_train)\n",
        "print('Mean squared error is: {}'.format(mean_squared_error(y_train, y_predict)))\n",
        "\n",
        "r2 = r2_score(y_train,y_predict)\n",
        "print('R^2 score on tarining set =',r2)"
      ],
      "metadata": {
        "colab": {
          "base_uri": "https://localhost:8080/"
        },
        "id": "2y-P_9JMvMIg",
        "outputId": "725c602a-662c-49b8-9024-e0dffb6a5007"
      },
      "execution_count": 157,
      "outputs": [
        {
          "output_type": "stream",
          "name": "stdout",
          "text": [
            "Mean squared error is: 226810.42538676434\n",
            "R^2 score on tarining set = 0.5351085400682676\n"
          ]
        }
      ]
    },
    {
      "cell_type": "code",
      "source": [
        "y_predict = regr.predict(X_test)\n",
        "print('Mean squared error is: {}'.format(mean_squared_error(y_test, y_predict)))\n",
        "\n",
        "r2 = r2_score(y_test,y_predict)\n",
        "print('R^2 score on tarining set =',r2)"
      ],
      "metadata": {
        "colab": {
          "base_uri": "https://localhost:8080/"
        },
        "id": "GHqxDMeFZnHd",
        "outputId": "ed99ffdf-ebc9-4746-d89e-3aabe0065e22"
      },
      "execution_count": 151,
      "outputs": [
        {
          "output_type": "stream",
          "name": "stdout",
          "text": [
            "Mean squared error is: 222433.89186021412\n",
            "R^2 score on tarining set = 0.6000513196957113\n"
          ]
        }
      ]
    },
    {
      "cell_type": "code",
      "source": [
        "y_predict = regr.predict(x_val)\n",
        "print('Mean squared error is: {}'.format(mean_squared_error(y_val, y_predict)))\n",
        "\n",
        "r2 = r2_score(y_val,y_predict)\n",
        "print('R^2 score on tarining set =',r2)"
      ],
      "metadata": {
        "colab": {
          "base_uri": "https://localhost:8080/"
        },
        "id": "IYnRcAF6ZrGY",
        "outputId": "086f7cf8-3a41-4f62-c400-8a933636a0e8"
      },
      "execution_count": 152,
      "outputs": [
        {
          "output_type": "stream",
          "name": "stdout",
          "text": [
            "Mean squared error is: 192358.74659908368\n",
            "R^2 score on tarining set = 0.6146427850085108\n"
          ]
        }
      ]
    },
    {
      "cell_type": "markdown",
      "source": [
        "# Understanding the Important Features"
      ],
      "metadata": {
        "id": "RlBS8M1oZ2w2"
      }
    },
    {
      "cell_type": "code",
      "source": [
        "import eli5\n",
        "from eli5.sklearn import PermutationImportance\n",
        "perm = PermutationImportance(regr, random_state=1).fit(X_test, y_test)\n",
        "eli5.show_weights(perm, feature_names = X_test.columns.tolist())"
      ],
      "metadata": {
        "colab": {
          "base_uri": "https://localhost:8080/",
          "height": 121
        },
        "id": "QmHHX-BqZ-Q8",
        "outputId": "ab20be0f-64af-4a1a-c364-832efcf669f2"
      },
      "execution_count": 161,
      "outputs": [
        {
          "output_type": "execute_result",
          "data": {
            "text/plain": [
              "<IPython.core.display.HTML object>"
            ],
            "text/html": [
              "\n",
              "    <style>\n",
              "    table.eli5-weights tr:hover {\n",
              "        filter: brightness(85%);\n",
              "    }\n",
              "</style>\n",
              "\n",
              "\n",
              "\n",
              "    \n",
              "\n",
              "    \n",
              "\n",
              "    \n",
              "\n",
              "    \n",
              "\n",
              "    \n",
              "\n",
              "    \n",
              "\n",
              "\n",
              "    \n",
              "\n",
              "    \n",
              "\n",
              "    \n",
              "\n",
              "    \n",
              "\n",
              "    \n",
              "\n",
              "    \n",
              "\n",
              "\n",
              "    \n",
              "\n",
              "    \n",
              "\n",
              "    \n",
              "\n",
              "    \n",
              "\n",
              "    \n",
              "        <table class=\"eli5-weights eli5-feature-importances\" style=\"border-collapse: collapse; border: none; margin-top: 0em; table-layout: auto;\">\n",
              "    <thead>\n",
              "    <tr style=\"border: none;\">\n",
              "        <th style=\"padding: 0 1em 0 0.5em; text-align: right; border: none;\">Weight</th>\n",
              "        <th style=\"padding: 0 0.5em 0 0.5em; text-align: left; border: none;\">Feature</th>\n",
              "    </tr>\n",
              "    </thead>\n",
              "    <tbody>\n",
              "    \n",
              "        <tr style=\"background-color: hsl(120, 100.00%, 80.00%); border: none;\">\n",
              "            <td style=\"padding: 0 1em 0 0.5em; text-align: right; border: none;\">\n",
              "                0.9821\n",
              "                \n",
              "                    &plusmn; 0.1444\n",
              "                \n",
              "            </td>\n",
              "            <td style=\"padding: 0 0.5em 0 0.5em; text-align: left; border: none;\">\n",
              "                RAM\n",
              "            </td>\n",
              "        </tr>\n",
              "    \n",
              "        <tr style=\"background-color: hsl(120, 100.00%, 98.53%); border: none;\">\n",
              "            <td style=\"padding: 0 1em 0 0.5em; text-align: right; border: none;\">\n",
              "                0.0236\n",
              "                \n",
              "                    &plusmn; 0.0162\n",
              "                \n",
              "            </td>\n",
              "            <td style=\"padding: 0 0.5em 0 0.5em; text-align: left; border: none;\">\n",
              "                Screen<span style=\"background-color: hsl(120, 80%, 70%); margin: 0 0.1em 0 0.1em\" title=\"A space symbol\">&emsp;</span>Size\n",
              "            </td>\n",
              "        </tr>\n",
              "    \n",
              "        <tr style=\"background-color: hsl(120, 100.00%, 98.99%); border: none;\">\n",
              "            <td style=\"padding: 0 1em 0 0.5em; text-align: right; border: none;\">\n",
              "                0.0138\n",
              "                \n",
              "                    &plusmn; 0.0220\n",
              "                \n",
              "            </td>\n",
              "            <td style=\"padding: 0 0.5em 0 0.5em; text-align: left; border: none;\">\n",
              "                Weight\n",
              "            </td>\n",
              "        </tr>\n",
              "    \n",
              "        <tr style=\"background-color: hsl(120, 100.00%, 99.76%); border: none;\">\n",
              "            <td style=\"padding: 0 1em 0 0.5em; text-align: right; border: none;\">\n",
              "                0.0017\n",
              "                \n",
              "                    &plusmn; 0.0034\n",
              "                \n",
              "            </td>\n",
              "            <td style=\"padding: 0 0.5em 0 0.5em; text-align: left; border: none;\">\n",
              "                <span style=\"background-color: hsl(120, 80%, 70%); margin: 0 0.1em 0 0\" title=\"A space symbol\">&emsp;</span>Storage\n",
              "            </td>\n",
              "        </tr>\n",
              "    \n",
              "        <tr style=\"background-color: hsl(120, 100.00%, 99.96%); border: none;\">\n",
              "            <td style=\"padding: 0 1em 0 0.5em; text-align: right; border: none;\">\n",
              "                0.0001\n",
              "                \n",
              "                    &plusmn; 0.0021\n",
              "                \n",
              "            </td>\n",
              "            <td style=\"padding: 0 0.5em 0 0.5em; text-align: left; border: none;\">\n",
              "                Operating<span style=\"background-color: hsl(120, 80%, 70%); margin: 0 0.1em 0 0.1em\" title=\"A space symbol\">&emsp;</span>System\n",
              "            </td>\n",
              "        </tr>\n",
              "    \n",
              "    \n",
              "    </tbody>\n",
              "</table>\n",
              "    \n",
              "\n",
              "    \n",
              "\n",
              "\n",
              "    \n",
              "\n",
              "    \n",
              "\n",
              "    \n",
              "\n",
              "    \n",
              "\n",
              "    \n",
              "\n",
              "    \n",
              "\n",
              "\n",
              "\n"
            ]
          },
          "metadata": {},
          "execution_count": 161
        }
      ]
    },
    {
      "cell_type": "markdown",
      "source": [
        "# Imputing Data for 1%, 5% and 10%\n",
        "\n",
        "KNN Imputation"
      ],
      "metadata": {
        "id": "CWhNOouxae78"
      }
    },
    {
      "cell_type": "code",
      "source": [
        "#Imputation using KNN, removed 5% of data from Danceability column \n",
        "from sklearn.impute import KNNImputer\n",
        "from sklearn.impute import SimpleImputer\n",
        "data_norm_mainImpute = data_norm.copy(deep=True)\n",
        "def removeRandomData(dataset, percent, col):\n",
        "    dataset.loc[dataset.sample(frac = percent).index, col] = np.nan\n",
        "\n",
        "\n",
        "data_norm_mainImpute['RAM10'] = data_norm_mainImpute['RAM']\n",
        "data_norm_mainImpute['RAM5'] = data_norm_mainImpute['RAM']\n",
        "data_norm_mainImpute['RAM1'] = data_norm_mainImpute['RAM']\n",
        "\n",
        "removeRandomData(data_norm_mainImpute, 0.10, 'RAM10')\n",
        "removeRandomData(data_norm_mainImpute, 0.05, 'RAM5')\n",
        "removeRandomData(data_norm_mainImpute, 0.01, 'RAM1')\n",
        "print(data_norm_mainImpute.isnull().sum())"
      ],
      "metadata": {
        "colab": {
          "base_uri": "https://localhost:8080/"
        },
        "id": "jNPtKncjavbm",
        "outputId": "2c67dd0f-7e4a-411b-c494-b9d304811879"
      },
      "execution_count": 162,
      "outputs": [
        {
          "output_type": "stream",
          "name": "stdout",
          "text": [
            "Screen Size           0\n",
            "RAM                   0\n",
            " Storage              0\n",
            "Operating System      0\n",
            "Weight                0\n",
            "Price (Euros)         0\n",
            "RAM10               113\n",
            "RAM5                 57\n",
            "RAM1                 11\n",
            "dtype: int64\n"
          ]
        }
      ]
    },
    {
      "cell_type": "markdown",
      "source": [
        "# Making DataFrames"
      ],
      "metadata": {
        "id": "j4CDzFg_Alm9"
      }
    },
    {
      "cell_type": "code",
      "source": [
        "data_norm_num1 = data_norm_mainImpute[['Screen Size', ' Storage', 'Operating System', 'Weight', 'RAM1']]\n",
        "data_norm_num5 = data_norm_mainImpute[['Screen Size', ' Storage', 'Operating System', 'Weight', 'RAM5']]\n",
        "data_norm_num10 = data_norm_mainImpute[['Screen Size', ' Storage', 'Operating System', 'Weight', 'RAM10']]\n",
        "data_norm_og = data_norm_mainImpute['RAM']"
      ],
      "metadata": {
        "id": "-IoH5QSuAox2"
      },
      "execution_count": 163,
      "outputs": []
    },
    {
      "cell_type": "code",
      "source": [
        "data_norm_Impute=data_norm.copy(deep= True)"
      ],
      "metadata": {
        "id": "G5qY7hzBBle0"
      },
      "execution_count": 164,
      "outputs": []
    },
    {
      "cell_type": "code",
      "source": [
        "from sklearn.metrics import accuracy_score\n",
        "imputer = KNNImputer(n_neighbors=10)\n",
        "### For the 1% imputation ###\n",
        "imputer.fit_transform(data_norm_num1)\n",
        "imputed_number_df = pd.DataFrame(imputer.fit_transform(data_norm_num1), columns = data_norm_num1.columns)\n",
        "print(imputed_number_df.isnull().sum())\n",
        "imputed_number_df['RAM'] = data_norm_og\n",
        "imputed_number_df['orignalVimputed_01'] = data_norm['RAM'].sub(imputed_number_df['RAM1'], axis = 0)\n",
        "\n",
        "percent_change_1 = (imputed_number_df['orignalVimputed_01'].sum() / imputed_number_df['orignalVimputed_01'].count())*100\n",
        "print(\"The perecent change of the orignal vs imputed value of 1% values is: {}\".format(percent_change_1))\n",
        "\n",
        "\n",
        "### For the 5% imputation ###\n",
        "imputer.fit_transform(data_norm_num5)\n",
        "imputed_number_df = pd.DataFrame(imputer.fit_transform(data_norm_num5), columns = data_norm_num5.columns)\n",
        "imputed_number_df['RAM'] = data_norm_og\n",
        "imputed_number_df['orignalVimputed_05'] = data_norm['RAM'].sub(imputed_number_df['RAM5'], axis = 0)\n",
        "percent_change_5 = (imputed_number_df['orignalVimputed_05'].sum() / imputed_number_df['orignalVimputed_05'].count())*100\n",
        "print(\"The perecent change of the orignal vs imputed value of 5% values is: {}\".format(percent_change_5))\n",
        "\n",
        "### For the 10% imputation ###\n",
        "imputer.fit_transform(data_norm_num10)\n",
        "imputed_number_df = pd.DataFrame(imputer.fit_transform(data_norm_num10), columns = data_norm_num10.columns)\n",
        "imputed_number_df['RAM'] = data_norm_og\n",
        "imputed_number_df['orignalVimputed_10'] = data_norm['RAM'].sub(imputed_number_df['RAM10'], axis = 0)\n",
        "percent_change_10 = (imputed_number_df['orignalVimputed_10'].sum() / imputed_number_df['orignalVimputed_10'].count())*100\n",
        "print(\"The perecent change of the orignal vs imputed value of 10% values is: {}\".format(percent_change_10))\n",
        "\n"
      ],
      "metadata": {
        "colab": {
          "base_uri": "https://localhost:8080/"
        },
        "id": "7ZzSzhZLB7pV",
        "outputId": "bcf01d75-3c15-4144-fb92-25b3ef268aaf"
      },
      "execution_count": 165,
      "outputs": [
        {
          "output_type": "stream",
          "name": "stdout",
          "text": [
            "Screen Size         0\n",
            " Storage            0\n",
            "Operating System    0\n",
            "Weight              0\n",
            "RAM1                0\n",
            "dtype: int64\n",
            "The perecent change of the orignal vs imputed value of 1% values is: -4.320486815415819\n",
            "The perecent change of the orignal vs imputed value of 5% values is: -4.7261663286004065\n",
            "The perecent change of the orignal vs imputed value of 10% values is: 1.4807302231237318\n"
          ]
        }
      ]
    },
    {
      "cell_type": "markdown",
      "source": [
        "#Mean Imputation"
      ],
      "metadata": {
        "id": "b2Lw7BBOE6ct"
      }
    },
    {
      "cell_type": "code",
      "source": [
        "### Specifying the imputer. ###\n",
        "mean_imputer = SimpleImputer(missing_values=np.nan, strategy='mean')\n",
        "\n",
        "### FOR the 1 % imputed values using Mean method ###\n",
        "mean_imputer = mean_imputer.fit(data_norm_num1)\n",
        "results = mean_imputer.transform(data_norm_num1.values)\n",
        "imputed_number_df = pd.DataFrame(mean_imputer.transform(results), columns = data_norm_num1.columns)\n",
        "results.round()\n",
        "imputed_number_df['RAM'] = data_norm_og\n",
        "imputed_number_df['orignalVimputed_01'] = imputed_number_df['RAM'].sub(imputed_number_df['RAM1'], axis = 0)\n",
        "percent_change_1 = (imputed_number_df['orignalVimputed_01'].sum() / imputed_number_df['orignalVimputed_01'].count())*100\n",
        "\n",
        "mean_imputer = mean_imputer.fit(data_norm_num5)\n",
        "results = mean_imputer.transform(data_norm_num5.values)\n",
        "imputed_number_df = pd.DataFrame(mean_imputer.transform(results), columns = data_norm_num5.columns)\n",
        "results.round()\n",
        "imputed_number_df['RAM'] = data_norm_og\n",
        "imputed_number_df['orignalVimputed_05'] = imputed_number_df['RAM'].sub(imputed_number_df['RAM5'], axis = 0)\n",
        "percent_change_5 = (imputed_number_df['orignalVimputed_05'].sum() / imputed_number_df['orignalVimputed_05'].count())*100\n",
        "\n",
        "mean_imputer = mean_imputer.fit(data_norm_num10)\n",
        "results = mean_imputer.transform(data_norm_num10.values)\n",
        "imputed_number_df = pd.DataFrame(mean_imputer.transform(results), columns = data_norm_num10.columns)\n",
        "results.round()\n",
        "imputed_number_df['RAM'] = data_norm_og\n",
        "imputed_number_df['orignalVimputed_10'] = imputed_number_df['RAM'].sub(imputed_number_df['RAM10'], axis = 0)\n",
        "percent_change_10 = (imputed_number_df['orignalVimputed_10'].sum() / imputed_number_df['orignalVimputed_10'].count())*100\n",
        "\n",
        "\n",
        "\n",
        "print(\"The perecent change of the orignal vs imputed value for 1% missing data is: {}\".format(percent_change_1))\n",
        "print(\"The perecent change of the orignal vs imputed value for 5% missing data is: {}\".format(percent_change_5))\n",
        "print(\"The perecent change of the orignal vs imputed value for 10% missing data is: {}\".format(percent_change_10))"
      ],
      "metadata": {
        "colab": {
          "base_uri": "https://localhost:8080/"
        },
        "id": "VOXXwwbtE4Vb",
        "outputId": "92f54c5d-b716-4386-98ea-ece72bff32d5"
      },
      "execution_count": 166,
      "outputs": [
        {
          "output_type": "stream",
          "name": "stdout",
          "text": [
            "The perecent change of the orignal vs imputed value for 1% missing data is: -4.631507775523999\n",
            "The perecent change of the orignal vs imputed value for 5% missing data is: -8.661785442288696\n",
            "The perecent change of the orignal vs imputed value for 10% missing data is: -0.07636320248178075\n"
          ]
        },
        {
          "output_type": "stream",
          "name": "stderr",
          "text": [
            "/usr/local/lib/python3.8/dist-packages/sklearn/base.py:450: UserWarning: X does not have valid feature names, but SimpleImputer was fitted with feature names\n",
            "  warnings.warn(\n",
            "/usr/local/lib/python3.8/dist-packages/sklearn/base.py:450: UserWarning: X does not have valid feature names, but SimpleImputer was fitted with feature names\n",
            "  warnings.warn(\n",
            "/usr/local/lib/python3.8/dist-packages/sklearn/base.py:450: UserWarning: X does not have valid feature names, but SimpleImputer was fitted with feature names\n",
            "  warnings.warn(\n",
            "/usr/local/lib/python3.8/dist-packages/sklearn/base.py:450: UserWarning: X does not have valid feature names, but SimpleImputer was fitted with feature names\n",
            "  warnings.warn(\n",
            "/usr/local/lib/python3.8/dist-packages/sklearn/base.py:450: UserWarning: X does not have valid feature names, but SimpleImputer was fitted with feature names\n",
            "  warnings.warn(\n",
            "/usr/local/lib/python3.8/dist-packages/sklearn/base.py:450: UserWarning: X does not have valid feature names, but SimpleImputer was fitted with feature names\n",
            "  warnings.warn(\n"
          ]
        }
      ]
    },
    {
      "cell_type": "markdown",
      "source": [
        "#Median Imputation"
      ],
      "metadata": {
        "id": "CQwqsir0GpMw"
      }
    },
    {
      "cell_type": "code",
      "source": [
        "### Specifying the imputer. ###\n",
        "mean_imputer = SimpleImputer(missing_values=np.nan, strategy='median')\n",
        "\n",
        "### FOR the 1 % imputed values using Mean method ###\n",
        "mean_imputer = mean_imputer.fit(data_norm_num1)\n",
        "results = mean_imputer.transform(data_norm_num1.values)\n",
        "imputed_number_df = pd.DataFrame(mean_imputer.transform(results), columns = data_norm_num1.columns)\n",
        "results.round()\n",
        "imputed_number_df['RAM'] = data_norm_og\n",
        "imputed_number_df['orignalVimputed_01'] = imputed_number_df['RAM'].sub(imputed_number_df['RAM1'], axis = 0)\n",
        "percent_change_1 = (imputed_number_df['orignalVimputed_01'].sum() / imputed_number_df['orignalVimputed_01'].count())*100\n",
        "\n",
        "mean_imputer = mean_imputer.fit(data_norm_num5)\n",
        "results = mean_imputer.transform(data_norm_num5.values)\n",
        "imputed_number_df = pd.DataFrame(mean_imputer.transform(results), columns = data_norm_num5.columns)\n",
        "results.round()\n",
        "imputed_number_df['RAM'] = data_norm_og\n",
        "imputed_number_df['orignalVimputed_05'] = imputed_number_df['RAM'].sub(imputed_number_df['RAM5'], axis = 0)\n",
        "percent_change_5 = (imputed_number_df['orignalVimputed_05'].sum() / imputed_number_df['orignalVimputed_05'].count())*100\n",
        "\n",
        "mean_imputer = mean_imputer.fit(data_norm_num10)\n",
        "results = mean_imputer.transform(data_norm_num10.values)\n",
        "imputed_number_df = pd.DataFrame(mean_imputer.transform(results), columns = data_norm_num10.columns)\n",
        "results.round()\n",
        "imputed_number_df['RAM'] = data_norm_og\n",
        "imputed_number_df['orignalVimputed_10'] = imputed_number_df['RAM'].sub(imputed_number_df['RAM10'], axis = 0)\n",
        "percent_change_10 = (imputed_number_df['orignalVimputed_10'].sum() / imputed_number_df['orignalVimputed_10'].count())*100\n",
        "\n",
        "\n",
        "\n",
        "print(\"The perecent change of the orignal vs imputed value for 1% missing data is: {}\".format(percent_change_1))\n",
        "print(\"The perecent change of the orignal vs imputed value for 5% missing data is: {}\".format(percent_change_5))\n",
        "print(\"The perecent change of the orignal vs imputed value for 10% missing data is: {}\".format(percent_change_10))"
      ],
      "metadata": {
        "colab": {
          "base_uri": "https://localhost:8080/"
        },
        "id": "i4qiSndgGZmu",
        "outputId": "fcb45dda-ba09-42a0-da98-f95f9e7c2d26"
      },
      "execution_count": 167,
      "outputs": [
        {
          "output_type": "stream",
          "name": "stdout",
          "text": [
            "The perecent change of the orignal vs imputed value for 1% missing data is: -3.8539553752535496\n",
            "The perecent change of the orignal vs imputed value for 5% missing data is: -4.665314401622718\n",
            "The perecent change of the orignal vs imputed value for 10% missing data is: 6.490872210953347\n"
          ]
        },
        {
          "output_type": "stream",
          "name": "stderr",
          "text": [
            "/usr/local/lib/python3.8/dist-packages/sklearn/base.py:450: UserWarning: X does not have valid feature names, but SimpleImputer was fitted with feature names\n",
            "  warnings.warn(\n",
            "/usr/local/lib/python3.8/dist-packages/sklearn/base.py:450: UserWarning: X does not have valid feature names, but SimpleImputer was fitted with feature names\n",
            "  warnings.warn(\n",
            "/usr/local/lib/python3.8/dist-packages/sklearn/base.py:450: UserWarning: X does not have valid feature names, but SimpleImputer was fitted with feature names\n",
            "  warnings.warn(\n",
            "/usr/local/lib/python3.8/dist-packages/sklearn/base.py:450: UserWarning: X does not have valid feature names, but SimpleImputer was fitted with feature names\n",
            "  warnings.warn(\n",
            "/usr/local/lib/python3.8/dist-packages/sklearn/base.py:450: UserWarning: X does not have valid feature names, but SimpleImputer was fitted with feature names\n",
            "  warnings.warn(\n",
            "/usr/local/lib/python3.8/dist-packages/sklearn/base.py:450: UserWarning: X does not have valid feature names, but SimpleImputer was fitted with feature names\n",
            "  warnings.warn(\n"
          ]
        }
      ]
    },
    {
      "cell_type": "markdown",
      "source": [
        "From above we can see that\n",
        "\n",
        "- for 1% imputation, the highest percent change is in KNN\n",
        "- for 5% imputation, the highest percent change is in mean\n",
        "- for 10% imputation,  the highest percen change is in mean\n",
        "\n",
        "From above we can see that the percent changes are mostly negative. This signifies that the methods are predicting higher than the orignal value.  We can also concur that the median almost stays almost consistent with the imputed values for 1, 5 and 10% but the other methods mostly degrade in accuracy the more the data is missing."
      ],
      "metadata": {
        "id": "xsLQKS9OEUAv"
      }
    },
    {
      "cell_type": "markdown",
      "source": [
        "#Do the ranges of the predictor variables make sense?\n",
        "A- The predictor variable popularity has min-191.90 and max-6099.00 values, and the mean is 1190.23, with the following data values the variables does makes sense."
      ],
      "metadata": {
        "id": "Ag_QkASmSq4z"
      }
    },
    {
      "cell_type": "code",
      "source": [
        "data_norm.describe()"
      ],
      "metadata": {
        "colab": {
          "base_uri": "https://localhost:8080/",
          "height": 300
        },
        "id": "AKLpy4W-Sw0G",
        "outputId": "132f90fc-20f9-42d3-b5c9-8d822a5dfa3f"
      },
      "execution_count": 168,
      "outputs": [
        {
          "output_type": "execute_result",
          "data": {
            "text/plain": [
              "       Screen Size          RAM        Storage  Operating System       Weight  \\\n",
              "count  1133.000000  1133.000000    1133.000000       1133.000000  1133.000000   \n",
              "mean    150.249779     8.688438    2375.533098          1.021183   122.744925   \n",
              "std      14.128396     5.254564   26297.473767          0.251307   162.198961   \n",
              "min     101.000000     2.000000       1.000000          1.000000     2.000000   \n",
              "25%     140.000000     4.000000     128.000000          1.000000    22.000000   \n",
              "50%     156.000000     8.000000     256.000000          1.000000   116.000000   \n",
              "75%     156.000000     8.000000     512.000000          1.000000   191.000000   \n",
              "max     184.000000    64.000000  512512.000000          4.000000  2591.000000   \n",
              "\n",
              "       Price (Euros)  \n",
              "count    1133.000000  \n",
              "mean     1190.237988  \n",
              "std       705.021847  \n",
              "min       191.900000  \n",
              "25%       669.000000  \n",
              "50%      1049.260000  \n",
              "75%      1545.640000  \n",
              "max      6099.000000  "
            ],
            "text/html": [
              "\n",
              "  <div id=\"df-9d0575ee-6839-4735-a2c8-c3a822c78cfa\">\n",
              "    <div class=\"colab-df-container\">\n",
              "      <div>\n",
              "<style scoped>\n",
              "    .dataframe tbody tr th:only-of-type {\n",
              "        vertical-align: middle;\n",
              "    }\n",
              "\n",
              "    .dataframe tbody tr th {\n",
              "        vertical-align: top;\n",
              "    }\n",
              "\n",
              "    .dataframe thead th {\n",
              "        text-align: right;\n",
              "    }\n",
              "</style>\n",
              "<table border=\"1\" class=\"dataframe\">\n",
              "  <thead>\n",
              "    <tr style=\"text-align: right;\">\n",
              "      <th></th>\n",
              "      <th>Screen Size</th>\n",
              "      <th>RAM</th>\n",
              "      <th>Storage</th>\n",
              "      <th>Operating System</th>\n",
              "      <th>Weight</th>\n",
              "      <th>Price (Euros)</th>\n",
              "    </tr>\n",
              "  </thead>\n",
              "  <tbody>\n",
              "    <tr>\n",
              "      <th>count</th>\n",
              "      <td>1133.000000</td>\n",
              "      <td>1133.000000</td>\n",
              "      <td>1133.000000</td>\n",
              "      <td>1133.000000</td>\n",
              "      <td>1133.000000</td>\n",
              "      <td>1133.000000</td>\n",
              "    </tr>\n",
              "    <tr>\n",
              "      <th>mean</th>\n",
              "      <td>150.249779</td>\n",
              "      <td>8.688438</td>\n",
              "      <td>2375.533098</td>\n",
              "      <td>1.021183</td>\n",
              "      <td>122.744925</td>\n",
              "      <td>1190.237988</td>\n",
              "    </tr>\n",
              "    <tr>\n",
              "      <th>std</th>\n",
              "      <td>14.128396</td>\n",
              "      <td>5.254564</td>\n",
              "      <td>26297.473767</td>\n",
              "      <td>0.251307</td>\n",
              "      <td>162.198961</td>\n",
              "      <td>705.021847</td>\n",
              "    </tr>\n",
              "    <tr>\n",
              "      <th>min</th>\n",
              "      <td>101.000000</td>\n",
              "      <td>2.000000</td>\n",
              "      <td>1.000000</td>\n",
              "      <td>1.000000</td>\n",
              "      <td>2.000000</td>\n",
              "      <td>191.900000</td>\n",
              "    </tr>\n",
              "    <tr>\n",
              "      <th>25%</th>\n",
              "      <td>140.000000</td>\n",
              "      <td>4.000000</td>\n",
              "      <td>128.000000</td>\n",
              "      <td>1.000000</td>\n",
              "      <td>22.000000</td>\n",
              "      <td>669.000000</td>\n",
              "    </tr>\n",
              "    <tr>\n",
              "      <th>50%</th>\n",
              "      <td>156.000000</td>\n",
              "      <td>8.000000</td>\n",
              "      <td>256.000000</td>\n",
              "      <td>1.000000</td>\n",
              "      <td>116.000000</td>\n",
              "      <td>1049.260000</td>\n",
              "    </tr>\n",
              "    <tr>\n",
              "      <th>75%</th>\n",
              "      <td>156.000000</td>\n",
              "      <td>8.000000</td>\n",
              "      <td>512.000000</td>\n",
              "      <td>1.000000</td>\n",
              "      <td>191.000000</td>\n",
              "      <td>1545.640000</td>\n",
              "    </tr>\n",
              "    <tr>\n",
              "      <th>max</th>\n",
              "      <td>184.000000</td>\n",
              "      <td>64.000000</td>\n",
              "      <td>512512.000000</td>\n",
              "      <td>4.000000</td>\n",
              "      <td>2591.000000</td>\n",
              "      <td>6099.000000</td>\n",
              "    </tr>\n",
              "  </tbody>\n",
              "</table>\n",
              "</div>\n",
              "      <button class=\"colab-df-convert\" onclick=\"convertToInteractive('df-9d0575ee-6839-4735-a2c8-c3a822c78cfa')\"\n",
              "              title=\"Convert this dataframe to an interactive table.\"\n",
              "              style=\"display:none;\">\n",
              "        \n",
              "  <svg xmlns=\"http://www.w3.org/2000/svg\" height=\"24px\"viewBox=\"0 0 24 24\"\n",
              "       width=\"24px\">\n",
              "    <path d=\"M0 0h24v24H0V0z\" fill=\"none\"/>\n",
              "    <path d=\"M18.56 5.44l.94 2.06.94-2.06 2.06-.94-2.06-.94-.94-2.06-.94 2.06-2.06.94zm-11 1L8.5 8.5l.94-2.06 2.06-.94-2.06-.94L8.5 2.5l-.94 2.06-2.06.94zm10 10l.94 2.06.94-2.06 2.06-.94-2.06-.94-.94-2.06-.94 2.06-2.06.94z\"/><path d=\"M17.41 7.96l-1.37-1.37c-.4-.4-.92-.59-1.43-.59-.52 0-1.04.2-1.43.59L10.3 9.45l-7.72 7.72c-.78.78-.78 2.05 0 2.83L4 21.41c.39.39.9.59 1.41.59.51 0 1.02-.2 1.41-.59l7.78-7.78 2.81-2.81c.8-.78.8-2.07 0-2.86zM5.41 20L4 18.59l7.72-7.72 1.47 1.35L5.41 20z\"/>\n",
              "  </svg>\n",
              "      </button>\n",
              "      \n",
              "  <style>\n",
              "    .colab-df-container {\n",
              "      display:flex;\n",
              "      flex-wrap:wrap;\n",
              "      gap: 12px;\n",
              "    }\n",
              "\n",
              "    .colab-df-convert {\n",
              "      background-color: #E8F0FE;\n",
              "      border: none;\n",
              "      border-radius: 50%;\n",
              "      cursor: pointer;\n",
              "      display: none;\n",
              "      fill: #1967D2;\n",
              "      height: 32px;\n",
              "      padding: 0 0 0 0;\n",
              "      width: 32px;\n",
              "    }\n",
              "\n",
              "    .colab-df-convert:hover {\n",
              "      background-color: #E2EBFA;\n",
              "      box-shadow: 0px 1px 2px rgba(60, 64, 67, 0.3), 0px 1px 3px 1px rgba(60, 64, 67, 0.15);\n",
              "      fill: #174EA6;\n",
              "    }\n",
              "\n",
              "    [theme=dark] .colab-df-convert {\n",
              "      background-color: #3B4455;\n",
              "      fill: #D2E3FC;\n",
              "    }\n",
              "\n",
              "    [theme=dark] .colab-df-convert:hover {\n",
              "      background-color: #434B5C;\n",
              "      box-shadow: 0px 1px 3px 1px rgba(0, 0, 0, 0.15);\n",
              "      filter: drop-shadow(0px 1px 2px rgba(0, 0, 0, 0.3));\n",
              "      fill: #FFFFFF;\n",
              "    }\n",
              "  </style>\n",
              "\n",
              "      <script>\n",
              "        const buttonEl =\n",
              "          document.querySelector('#df-9d0575ee-6839-4735-a2c8-c3a822c78cfa button.colab-df-convert');\n",
              "        buttonEl.style.display =\n",
              "          google.colab.kernel.accessAllowed ? 'block' : 'none';\n",
              "\n",
              "        async function convertToInteractive(key) {\n",
              "          const element = document.querySelector('#df-9d0575ee-6839-4735-a2c8-c3a822c78cfa');\n",
              "          const dataTable =\n",
              "            await google.colab.kernel.invokeFunction('convertToInteractive',\n",
              "                                                     [key], {});\n",
              "          if (!dataTable) return;\n",
              "\n",
              "          const docLinkHtml = 'Like what you see? Visit the ' +\n",
              "            '<a target=\"_blank\" href=https://colab.research.google.com/notebooks/data_table.ipynb>data table notebook</a>'\n",
              "            + ' to learn more about interactive tables.';\n",
              "          element.innerHTML = '';\n",
              "          dataTable['output_type'] = 'display_data';\n",
              "          await google.colab.output.renderOutput(dataTable, element);\n",
              "          const docLink = document.createElement('div');\n",
              "          docLink.innerHTML = docLinkHtml;\n",
              "          element.appendChild(docLink);\n",
              "        }\n",
              "      </script>\n",
              "    </div>\n",
              "  </div>\n",
              "  "
            ]
          },
          "metadata": {},
          "execution_count": 168
        }
      ]
    },
    {
      "cell_type": "markdown",
      "source": [
        "# Remove outliers and keep outliers (does if have an effect of the final predictive model)?"
      ],
      "metadata": {
        "id": "PNcU12uKTP4w"
      }
    },
    {
      "cell_type": "code",
      "source": [
        "from scipy import stats\n",
        "\n",
        "df_c = data_norm.copy()\n",
        "print(df_c.head())\n",
        "def removeOutliers(data_norm):\n",
        "  data = data_norm[(np.abs(stats.zscore(data_norm)) < 3).all(axis=1)]\n",
        "  return data\n",
        "df1 = removeOutliers(df_c)\n",
        "from sklearn.model_selection import  train_test_split\n",
        "df_noOutliers = df1[['Screen Size', 'RAM', ' Storage','Operating System', 'Weight', 'Price (Euros)']]\n",
        "print(len(df_noOutliers))\n",
        "print(len(df1))\n",
        "#df['Popularity'] \n",
        "\n",
        "\n",
        "\n",
        "X = df_noOutliers[['Screen Size', 'RAM', ' Storage','Operating System', 'Weight']]\n",
        "\n",
        "y = df_noOutliers['Price (Euros)']\n",
        "\n",
        "print(len(X))\n",
        "print(len(y))\n",
        "\n",
        "#Spliting data into Training set, Validation set and Test set 20%\n",
        "\n",
        "X_t, X_test, y_t, y_test = train_test_split(X, y, test_size=0.1, random_state=1)\n",
        "\n",
        "X_train, X_val, y_train, y_val = train_test_split(X_t, y_t, test_size=0.15, random_state=1)\n",
        "\n",
        "  # Create linear regression object\n",
        "regr = linear_model.LinearRegression()\n",
        "\n",
        "# Train the model using the training sets\n",
        "regr.fit(X_train,y_train)"
      ],
      "metadata": {
        "colab": {
          "base_uri": "https://localhost:8080/"
        },
        "id": "cTLWLZQVTUxE",
        "outputId": "266c9f2b-d2a6-4f7b-c3db-027e2ffce5d8"
      },
      "execution_count": 169,
      "outputs": [
        {
          "output_type": "stream",
          "name": "stdout",
          "text": [
            "    Screen Size  RAM   Storage  Operating System  Weight  Price (Euros)\n",
            "5         156.0    4       500                 1    21.0         400.00\n",
            "6         154.0   16       256                 4   204.0        2139.97\n",
            "8         140.0   16       512                 1    13.0        1495.00\n",
            "9         140.0    8       256                 1    16.0         770.00\n",
            "13        156.0    4       256                 1    22.0         498.90\n",
            "1091\n",
            "1091\n",
            "1091\n",
            "1091\n"
          ]
        },
        {
          "output_type": "execute_result",
          "data": {
            "text/plain": [
              "LinearRegression()"
            ]
          },
          "metadata": {},
          "execution_count": 169
        }
      ]
    },
    {
      "cell_type": "code",
      "source": [
        "# Make predictions using the training set\n",
        "y_pred = regr.predict(X_train)\n",
        "# The mean squared error\n",
        "print('Mean squared error: %.2f'% mean_squared_error(y_train, y_pred))\n",
        "# The coefficient of determination: 1 is perfect prediction\n",
        "print('Coefficient of determination: %.2f'% r2_score(y_train, y_pred))\n",
        "r2 = r2_score(y_train,y_pred)\n",
        "print('R^2 score on training set =',r2)"
      ],
      "metadata": {
        "colab": {
          "base_uri": "https://localhost:8080/"
        },
        "id": "WcqGVEiuTPNa",
        "outputId": "d7e9448a-813f-4ef9-ea81-558cf50b82be"
      },
      "execution_count": 170,
      "outputs": [
        {
          "output_type": "stream",
          "name": "stdout",
          "text": [
            "Mean squared error: 180644.93\n",
            "Coefficient of determination: 0.52\n",
            "R^2 score on training set = 0.5177073362190039\n"
          ]
        }
      ]
    },
    {
      "cell_type": "code",
      "source": [
        "# Make predictions using the testing set\n",
        "y_pred = regr.predict(X_test)\n",
        "# The mean squared error\n",
        "print('Mean squared error: %.2f'% mean_squared_error(y_test, y_pred))\n",
        "# The coefficient of determination: 1 is perfect prediction\n",
        "print('Coefficient of determination: %.2f'% r2_score(y_test, y_pred))\n",
        "r2 = r2_score(y_test,y_pred)\n",
        "print('R^2 score on test set =',r2)"
      ],
      "metadata": {
        "colab": {
          "base_uri": "https://localhost:8080/"
        },
        "id": "rVh9XHo8aUQd",
        "outputId": "b8817e09-9add-4179-b41b-d14875aa25ac"
      },
      "execution_count": 171,
      "outputs": [
        {
          "output_type": "stream",
          "name": "stdout",
          "text": [
            "Mean squared error: 185153.95\n",
            "Coefficient of determination: 0.58\n",
            "R^2 score on test set = 0.5838574655106212\n"
          ]
        }
      ]
    },
    {
      "cell_type": "code",
      "source": [
        "# Make predictions using the validation set\n",
        "y_pred = regr.predict(X_val)\n",
        "\n",
        "# The mean squared error\n",
        "print('Mean squared error: %.2f'% mean_squared_error(y_val, y_pred))\n",
        "# The coefficient of determination: 1 is perfect prediction\n",
        "print('Coefficient of determination: %.2f'% r2_score(y_val, y_pred))\n",
        "r2_val = r2_score(y_val,y_pred)\n",
        "print('R^2 score on validation set =',r2_val)"
      ],
      "metadata": {
        "colab": {
          "base_uri": "https://localhost:8080/"
        },
        "id": "mAND_-LLaZGK",
        "outputId": "d18938f1-9b1d-4add-f3f0-5b627701dd2f"
      },
      "execution_count": 172,
      "outputs": [
        {
          "output_type": "stream",
          "name": "stdout",
          "text": [
            "Mean squared error: 155376.42\n",
            "Coefficient of determination: 0.61\n",
            "R^2 score on validation set = 0.6116794836695407\n"
          ]
        }
      ]
    },
    {
      "cell_type": "markdown",
      "source": [
        "In the above code we have removed the outliers from the original dataset and made predictions using training, test and validation set, if we compare these values with the dataset with outliers it does not significantly affects the predictive model."
      ],
      "metadata": {
        "id": "CJMGaDxlak26"
      }
    },
    {
      "cell_type": "markdown",
      "source": [
        "#References\n",
        "https://www.analyticsvidhya.com/blog/2021/09/q-q-plot-ensure-your-ml-model-is-based-on-the-right-distributions/\n",
        "\n",
        "https://scikit-learn.org/stable/modules/generated/sklearn.linear_model.LogisticRegression.html\n",
        "\n",
        "https://scikit-learn.org/stable/modules/impute.html\n",
        "\n",
        "https://www.ucd.ie/ecomodel/Resources/QQplots_WebVersion.html#:~:text=Normally%20distributed%20data,-Below%20is%20an&text=The%20normal%20distribution%20is%20symmetric,deviate%20from%20the%20straight%20line).\n",
        "\n",
        "https://github.com/aiskunks/YouTube/blob/main/A_Crash_Course_in_Statistical_Learning/ML_Data_Cleaning_and_Feature_Selection/ML_Data_Cleaning_and_Feature_Selection_Abalone.ipynb\n",
        "\n",
        "https://github.com/aiskunks/YouTube/blob/main/A_Crash_Course_in_Statistical_Learning/ML_Data_Cleaning_and_Feature_Selection/ML_Data_Cleaning_and_Feature_Selection_Wine_Quality.ipynb "
      ],
      "metadata": {
        "id": "_16TJw_tliO8"
      }
    },
    {
      "cell_type": "markdown",
      "source": [],
      "metadata": {
        "id": "EchAyIjXeADa"
      }
    }
  ]
}